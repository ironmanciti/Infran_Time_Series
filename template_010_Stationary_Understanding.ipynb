{
 "cells": [
  {
   "cell_type": "markdown",
   "id": "7137f47d",
   "metadata": {},
   "source": [
    "# Stationary Time Series (정상 시계열)"
   ]
  },
  {
   "cell_type": "markdown",
   "id": "b76e03a6",
   "metadata": {},
   "source": [
    "## What is Stationarity (정상성)?\n",
    "\n",
    "1. constant mean (일정한 평균)  \n",
    "2. constant variance (일정한 분산)  \n",
    "3. constant autocorrelation structure (일정한 자기상관)  \n",
    "4. no periodic component (주기 성분 없음)"
   ]
  },
  {
   "cell_type": "markdown",
   "id": "1b2cdfe3",
   "metadata": {},
   "source": [
    "다음 코드는 백색 잡음(white noise)을 생성하는 예제입니다.  \n",
    "백색 잡음은 평균과 분산이 일정한, 서로 독립적인 난수의 시계열로, 주로 시계열 분석에서 랜덤한 변동성(noise)을 모델링하는 데 사용됩니다. 이후에 이를 활용하여 시계열 모델링 및 분석을 수행할 수 있습니다."
   ]
  },
  {
   "cell_type": "markdown",
   "id": "68a23231",
   "metadata": {},
   "source": [
    "이 함수는 시계열 데이터를 시각화하는 데 사용됩니다. x축에는 시간(time) 정보를, y축에는 시계열 데이터의 값(value)을 나타냅니다."
   ]
  },
  {
   "cell_type": "markdown",
   "id": "e99e3348",
   "metadata": {},
   "source": [
    " plot_sequence() 함수를 사용하여 백색 잡음 시계열 데이터를 시각화해 봅니다."
   ]
  },
  {
   "cell_type": "markdown",
   "id": "afc1a34a",
   "metadata": {},
   "source": [
    "- 위의 플롯에는 뚜렷한 추세나 계절성이 없습니다. 이 시계열 데이터는 4가지 정상성 조건인 일정한 평균, 일정한 분산, 일정한 자기상관, 주기 성분 없음을 충족합니다.  \n",
    "\n",
    "- 시계열의 histogram 을 plotting 하여 정규분포를 보이면 평균과 분산이 일정하다는 확신을 얻을 수 있습니다."
   ]
  },
  {
   "cell_type": "markdown",
   "id": "64ea3eb3",
   "metadata": {},
   "source": [
    "## Autocorrelation Structure  (자기 상관 구조)\n",
    "\n",
    "- 특정 시점(step)이 다른 시점(step)과 수치적 연관성 있음.\n",
    "\n",
    "- 자기상관성은 difference(차분)에 의해 stationary 로 바꿀 수 있다."
   ]
  },
  {
   "cell_type": "markdown",
   "id": "9875156d",
   "metadata": {},
   "source": [
    "다음 코드는 자기상관 시계열 데이터를 생성하는 예제입니다.  \n",
    "이 코드는 먼저 시계열 데이터의 초기값으로 seed 값을 지정합니다. 그리고 for 반복문을 사용하여 각 시점의 값을 랜덤하게 생성하면서, 이전 시점의 값과 일정한 자기 상관성을 부여합니다.  \n",
    "구체적으로, np.random.normal() 함수를 사용하여 평균이 0, 표준편차가 2.5인 가우시안 분포를 따르는 난수를 생성합니다. 그리고 이를 초기값과 더하여 시계열 데이터의 값을 결정합니다. 이때, 이전 시점의 값을 seed 변수에 저장하여 다음 시점에서 사용합니다. 이 과정을 반복하여 시계열 데이터를 생성합니다."
   ]
  },
  {
   "cell_type": "markdown",
   "id": "9b5aaacb",
   "metadata": {},
   "source": [
    "위에서 생성한 자기상관 시계열 데이터를 시각화 해 봅니다."
   ]
  },
  {
   "cell_type": "markdown",
   "id": "b6c0566e",
   "metadata": {},
   "source": [
    "시계열이 균일분포 등 비정규분포를 보이면 non-stationay 라고 판단 가능합니다."
   ]
  },
  {
   "cell_type": "markdown",
   "id": "0158f62c",
   "metadata": {},
   "source": [
    "## non-stationary (비정상) data의 특징\n",
    "\n",
    "1. Trend (평균의 변화)가 존재\n",
    "2. 이분산성(변동 분산)  \n",
    "3. Seasonality (계절성, 주기적 구성요소)  \n",
    "4. Trend + Seasonality"
   ]
  },
  {
   "cell_type": "markdown",
   "id": "e5c67cce",
   "metadata": {},
   "source": [
    "### Trend(추세)\n",
    "\n",
    "평균이 시간이 지남에 따라 변하므로 non-stationary 시계열입니다.\n",
    "\n",
    "다음 코드는 백색 잡음(stationary) 데이터와 시간(time) 정보를 이용하여 추세(trend) 시계열 데이터를 생성합니다. 이때 백색 잡음 데이터를 50배하여 값의 크기를 증가시키는 것으로 추세를 모델링합니다. 그리고 plot_sequence() 함수를 호출하여 추세 시계열 데이터를 시각화합니다. "
   ]
  },
  {
   "cell_type": "markdown",
   "id": "52237406",
   "metadata": {},
   "source": [
    "### 이분산성(변동 분산)\n",
    "\n",
    "시간에 따른 분산의 변화"
   ]
  },
  {
   "cell_type": "markdown",
   "id": "91bf15eb",
   "metadata": {},
   "source": [
    "다음은 두 개의 수준을 갖는 시계열 데이터를 생성하는 예제입니다.  \n",
    "random.normal() 함수를 사용하여 평균(loc)이 각각 0과 10이고, 표준편차(scale)가 각각 1.0과 10.0인 가우시안 분포를 따르는 두 가지의 데이터를 생성합니다. 이렇게 생성된 두 개 데이터를 결합하여 하나의 시계열 데이터를 생성합니다. 이때, 각 데이터는 각각 250개씩 생성되었습니다."
   ]
  },
  {
   "cell_type": "markdown",
   "id": "431bfe91",
   "metadata": {},
   "source": [
    "### Seasonality (계절성)\n",
    "\n",
    "계정성은 주기적인 요소가 있으므로 non-stationary 입니다."
   ]
  },
  {
   "cell_type": "markdown",
   "id": "137ccd96",
   "metadata": {},
   "source": [
    "이 코드는 sin() 함수를 사용하여 시간(time) 정보에 대한 사인파(sin wave)를 생성하고, 이를 10배하여 시계열 데이터의 값의 크기를 증가시키는 것으로 계절성(seasonality)을 모델링합니다. "
   ]
  },
  {
   "cell_type": "markdown",
   "id": "00ca858f",
   "metadata": {},
   "source": [
    "### Trend + Seasonality (추세 + 계절성)\n",
    "\n",
    "평균이 시간이 지남에 따라 변하고 주기적인 구성 요소가 있습니다."
   ]
  },
  {
   "cell_type": "markdown",
   "id": "3296cce4",
   "metadata": {},
   "source": [
    "이 코드는 추세(trend), 계절성(seasonality), 백색 잡음(stationary)을 각각 더하여 추세와 계절성이 모두 존재하는 시계열 데이터를 생성합니다. "
   ]
  },
  {
   "cell_type": "markdown",
   "id": "95599149",
   "metadata": {},
   "source": [
    "### autocorrelation + trend (자기상관성 + 추세)"
   ]
  },
  {
   "cell_type": "markdown",
   "id": "7c4a5b87",
   "metadata": {},
   "source": [
    "이 코드는 자기상관성(lagged)과 추세(trend)를 더하여 자기상관성이 있는 시계열 데이터를 생성합니다. 이때, 자기상관성 데이터를 10배하여 시계열 데이터의 값의 크기를 증가시키는 것으로 자기상관성을 모델링합니다."
   ]
  },
  {
   "cell_type": "markdown",
   "id": "99aaa113",
   "metadata": {},
   "source": [
    "다음은 금융위기와 같이 추세가 바뀌는 시계열 데이터를 시각화하는 예제입니다.  \n",
    "\n",
    "이 코드는 추세(trend)와 백색 잡음(stationary) 데이터를 사용하여 추세 시계열 데이터를 생성합니다. 그리고 이를 50배하여 시계열 데이터의 값의 크기를 증가시키는 것으로 추세를 모델링합니다. 그리고 np.arange() 함수를 사용하여 길이가 2배인 시간(time) 배열을 생성합니다. 그리고 trend2 변수를 생성하여 이전에 생성한 추세 시계열 데이터를 반전시키고, 이를 50배하여 시계열 데이터의 값의 크기를 증가시키는 것으로 추세를 모델링합니다. 그리고 두 추세 시계열 데이터를 결합하여 추세가 바뀌는 시계열 데이터를 생성합니다. "
   ]
  },
  {
   "cell_type": "markdown",
   "id": "beefa8cf",
   "metadata": {},
   "source": [
    "## Differencing 으로 Autocorrelation 제거"
   ]
  },
  {
   "cell_type": "markdown",
   "id": "ba0baa4d",
   "metadata": {},
   "source": [
    "차분(Differencing)을 수행한 후의 시계열 데이터를 시각화하는 예제입니다.  \n",
    "lagged 변수에서 한 스텝 이전 데이터와 현재 데이터를 빼서 차분을 수행합니다. 그리고 plot_sequence() 함수를 호출하여 차분을 수행한 후의 시계열 데이터를 시각화합니다. 차분을 수행한 후의 시계열 데이터는 평균과 분산이 일정하게 유지되는 정상 상태의 특성을 가진 stationary한 데이터로 변환되었음을 확인할 수 있습니다."
   ]
  },
  {
   "cell_type": "markdown",
   "id": "bc827ae7",
   "metadata": {},
   "source": [
    "## pandas autocorrelation_plot\n",
    "\n",
    "- Time series 가 random 한 경우 autocorrelation 은 모든 time-lag 에서 zero 에 가까워야 함  \n",
    "\n",
    "- Time series 가 non-random 한 경우 하나 이상의 autocorrelation 이 크게 non-zero 값을 보임  \n",
    "\n",
    "- 플롯의 수평선은 95% 및 99% 신뢰 대역에 해당. 점선은 99% 신뢰 구간."
   ]
  },
  {
   "cell_type": "markdown",
   "id": "1d73ae01",
   "metadata": {},
   "source": [
    "이 코드는 autocorrelation_plot() 함수를 사용하여 정상 상태의 시계열 데이터의 자기상관관계를 시각화합니다.  autocorrelation 이 모든 time-lag 에서 zero 에 가까우므로 정상 시계열로 판단합니다."
   ]
  },
  {
   "cell_type": "markdown",
   "id": "ff976087",
   "metadata": {},
   "source": [
    "lagged 변수가 자기 상관성이 있는 시계열 데이터이기 때문에,  하나 이상의 autocorrelation 이 크게 non-zero 값을 보이고 있습니다."
   ]
  }
 ],
 "metadata": {
  "kernelspec": {
   "display_name": "Python 3 (ipykernel)",
   "language": "python",
   "name": "python3"
  },
  "language_info": {
   "codemirror_mode": {
    "name": "ipython",
    "version": 3
   },
   "file_extension": ".py",
   "mimetype": "text/x-python",
   "name": "python",
   "nbconvert_exporter": "python",
   "pygments_lexer": "ipython3",
   "version": "3.9.16"
  }
 },
 "nbformat": 4,
 "nbformat_minor": 5
}
