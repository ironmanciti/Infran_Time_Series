{
 "cells": [
  {
   "cell_type": "markdown",
   "metadata": {
    "id": "UFm4zEmdF3HZ"
   },
   "source": [
    "# SimpleRNN / LSTM input/output shape\n",
    "\n",
    "- return_sequences = False, True 일 때의 output 비교\n",
    "\n",
    "- Bidirectional LSTM 의 output 비교"
   ]
  },
  {
   "cell_type": "markdown",
   "metadata": {},
   "source": [
    "## SimpleRNN\n",
    "\n",
    "## return_sequences\n",
    "\n",
    "- False (default) - last time step 의 output 만 반환\n",
    "- True - 모든 timestep 의 output 을 모두 반환  \n",
    "\n",
    "<img src=\"rnn_output2.png\" width=400 />\n",
    "<img src=\"rnn_output1.png\" width=500 />"
   ]
  },
  {
   "cell_type": "markdown",
   "metadata": {},
   "source": [
    "simple_RNN 함수는 Keras를 사용하여 RNN 모델을 만들고 예측을 수행합니다. return_sequences가 False로 설정된 경우 (기본값), RNN은 시퀀스의 마지막 시간 단계에서만 출력을 반환하며, True로 설정된 경우 모든 시간 단계에 대한 출력을 반환합니다.  \n",
    "\n",
    "함수는 T 시간 단계와 D 입력 차원을 가진 입력을 기대합니다.  \n",
    "SimpleRNN 계층은 U개의 숨겨진 유닛을 사용하며, return_sequences 인수를 통해 출력 형태를 결정합니다.  \n",
    "Model 객체는 입력과 출력을 정의하여 모델을 생성합니다.  \n",
    "model.predict(X)를 사용하여 입력 데이터 X에 대한 모델의 예측을 반환합니다."
   ]
  },
  {
   "cell_type": "markdown",
   "metadata": {
    "id": "93BtygLbF3Hg"
   },
   "source": [
    "## LSTM\n",
    "\n",
    "## return_sequences\n",
    "\n",
    "- False (default) - last time step 의 output 만 반환\n",
    "- True - 모든 timestep 의 output 을 모두 반환\n",
    "\n",
    "lstm 함수는 Keras를 사용하여 LSTM 모델을 만들고 예측을 수행합니다. return_sequences가 False로 설정된 경우 (기본값), LSTM은 시퀀스의 마지막 시간 단계에서만 출력을 반환하며, True로 설정된 경우 모든 시간 단계에 대한 출력을 반환합니다.\n",
    "\n",
    "함수는 T 시간 단계와 D 입력 차원을 가진 입력을 기대합니다.  \n",
    "LSTM 계층은 U개의 숨겨진 유닛을 사용하며, return_sequences 인수를 통해 출력 형태를 결정합니다.  "
   ]
  },
  {
   "cell_type": "markdown",
   "metadata": {},
   "source": [
    "## Bidirectional LSTM\n",
    "\n",
    "- 순방향, 역방향이 concatenate 된 output 출력  \n",
    "\n",
    "- hidden state, cell state 는 순방향, 역방향 별도 출력\n",
    "\n",
    "bi_lstm 함수는 Keras를 사용하여 양방향 LSTM 모델을 만들고 예측을 수행합니다. return_sequences가 False로 설정된 경우 (기본값), 양방향 LSTM은 시퀀스의 마지막 시간 단계에서만 출력을 반환하며, True로 설정된 경우 모든 시간 단계에 대한 출력을 반환합니다.\n",
    "\n",
    "함수는 T 시간 단계와 D 입력 차원을 가진 입력을 기대합니다.  \n",
    "Bidirectional 래퍼를 사용하여 양방향 LSTM을 생성하며, U개의 숨겨진 유닛을 사용하고 return_sequences 인수를 통해 출력 형태를 결정합니다.  \n",
    "Model 객체는 입력과 출력을 정의하여 모델을 생성합니다.  \n",
    "model.predict(X)를 사용하여 입력 데이터 X에 대한 모델의 예측을 반환합니다.  "
   ]
  },
  {
   "cell_type": "markdown",
   "metadata": {
    "id": "4RUEZBhKIlP2"
   },
   "source": [
    "## Lambda Layer\n",
    "\n",
    "kares의 기능을 효과적으로 확장하기 위해 임의의 작업을 수행할 수 있게 해주는 레이어이며 모델 정의 자체 내에서 수행됩니다.\n",
    "\n",
    "이 코드는 Sequential 모델을 생성하며, 이 모델에는 다음과 같은 레이어들이 포함되어 있습니다.\n",
    "\n",
    "첫 번째 Lambda 레이어: 이 레이어의 목적은 입력 데이터의 모양을 변경하여 LSTM 레이어에 적합한 형태로 만드는 것입니다. 여기서 입력 데이터는 2D 텐서로 가정되며 (배치 크기, 시간 단계) 형태를 가집니다. LSTM 레이어는 3D 텐서 (배치 크기, 시간 단계, 특성 수)를 입력으로 사용하므로, 이 Lambda 레이어는 2D 입력 텐서에 차원을 추가하여 3D 텐서로 변경합니다. tf.expand_dims(x, axis=-1) 함수를 사용하여 마지막 축(axis=-1)에 차원을 추가합니다.\n",
    "\n",
    "LSTM 레이어: 이 레이어는 20개의 숨겨진 유닛이 있는 LSTM 레이어입니다. return_sequences=True 설정을 통해 모든 시간 단계에 대한 출력을 반환합니다. 이 출력은 다음 LSTM 레이어의 입력으로 사용됩니다.\n",
    "\n",
    "두 번째 LSTM 레이어: 이 레이어는 또한 20개의 숨겨진 유닛이 있는 LSTM 레이어입니다. 기본 설정에 따라 마지막 시간 단계의 출력만 반환합니다.\n",
    "\n",
    "Dense 레이어: 이 레이어는 완전 연결 레이어로, 출력 뉴런이 1개인 단일 뉴런 레이어입니다. LSTM 레이어의 출력을 사용하여 최종 예측 값을 생성합니다.\n",
    "\n",
    "두 번째 Lambda 레이어: 이 레이어의 목적은 모델의 출력 값을 스케일링하는 것입니다. Lambda 레이어는 출력 값을 100.0으로 곱하여 스케일 업합니다. 이렇게 하면 출력 범위가 증가하고, 이를 통해 문제에 더 적합한 출력 값을 생성할 수 있습니다."
   ]
  },
  {
   "cell_type": "markdown",
   "metadata": {},
   "source": [
    "아래 코드에서 B는 배치 크기를 나타내고, T는 시간 단계를 나타냅니다. 이 코드는 크기가 (배치 크기, 시간 단계)인 2D 배열 X를 생성합니다. 각 원소는 평균이 0이고 표준 편차가 100인 정규 분포에서 무작위로 선택됩니다."
   ]
  },
  {
   "cell_type": "markdown",
   "metadata": {},
   "source": [
    "입력 배열 X에 새로운 축을 추가합니다. -1은 배열의 마지막 차원 바로 다음에 새로운 차원을 추가하라는 의미입니다."
   ]
  }
 ],
 "metadata": {
  "colab": {
   "name": "020_LSTM+GRU+input+output+shape+return_sequences.ipynb",
   "provenance": []
  },
  "kernelspec": {
   "display_name": "Python 3 (ipykernel)",
   "language": "python",
   "name": "python3"
  },
  "language_info": {
   "codemirror_mode": {
    "name": "ipython",
    "version": 3
   },
   "file_extension": ".py",
   "mimetype": "text/x-python",
   "name": "python",
   "nbconvert_exporter": "python",
   "pygments_lexer": "ipython3",
   "version": "3.9.16"
  }
 },
 "nbformat": 4,
 "nbformat_minor": 4
}
