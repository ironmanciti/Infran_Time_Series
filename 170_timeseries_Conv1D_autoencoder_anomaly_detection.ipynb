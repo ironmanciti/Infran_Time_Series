{
  "cells": [
    {
      "cell_type": "markdown",
      "metadata": {
        "id": "HxlrClvmG-2L"
      },
      "source": [
        "# Conv1D Autoencoder를 사용한 시계열 data 이상 감지\n",
        "시계열 자료의 이상치 검출"
      ]
    },
    {
      "cell_type": "code",
      "execution_count": 1,
      "metadata": {
        "id": "GA_yfyyUG-2N"
      },
      "outputs": [],
      "source": [
        "import numpy as np\n",
        "import pandas as pd\n",
        "from tensorflow import keras\n",
        "from tensorflow.keras.layers import Input, Conv1D, Dropout, Conv1DTranspose\n",
        "from matplotlib import pyplot as plt"
      ]
    },
    {
      "cell_type": "markdown",
      "metadata": {
        "id": "N3dX1ySAG-2O"
      },
      "source": [
        "## Load the data\n",
        "\n",
        "비정상적인 동작 기간이 labeling 된  인공 시계열 데이터\n",
        "[Numenta Anomaly Benchmark(NAB)](\n",
        "https://www.kaggle.com/boltzmannbrain/nab) 를 사용합니다. 데이터는 정열되고 타임스탬프가 지정된 단일 값 메트릭입니다.\n",
        "\n",
        "학습에는 noise가 포함된 정상 시계열 데이터인인 `art_daily_small_noise.csv` 파일을 사용하고 테스트에는 이상치가 포함된 `art_daily_jumpsup.csv` 파일을 사용합니다. 이 데이터 세트의 단순성 덕분에 이상 탐지를 효과적으로 시연할 수 있습니다."
      ]
    },
    {
      "cell_type": "code",
      "execution_count": 2,
      "metadata": {
        "colab": {
          "base_uri": "https://localhost:8080/"
        },
        "id": "RdGK63vWG-2O",
        "outputId": "736ac048-4116-4748-a36c-71a8d71b9bb2"
      },
      "outputs": [
        {
          "output_type": "stream",
          "name": "stdout",
          "text": [
            "(4032, 1) (4032, 1)\n"
          ]
        }
      ],
      "source": [
        "master_url_root = \"https://raw.githubusercontent.com/numenta/NAB/master/data/\"\n",
        "\n",
        "# Train set - 정상데이터\n",
        "df_small_noise_url_suffix = \"artificialNoAnomaly/art_daily_small_noise.csv\"\n",
        "df_small_noise_url = master_url_root + df_small_noise_url_suffix\n",
        "df_small_noise = pd.read_csv(\n",
        "    df_small_noise_url, parse_dates=True, index_col=\"timestamp\"\n",
        ")\n",
        "\n",
        "# Test set - 이상치 포함 데이터\n",
        "df_daily_jumpsup_url_suffix = \"artificialWithAnomaly/art_daily_jumpsup.csv\"\n",
        "df_daily_jumpsup_url = master_url_root + df_daily_jumpsup_url_suffix\n",
        "df_daily_jumpsup = pd.read_csv(\n",
        "    df_daily_jumpsup_url, parse_dates=True, index_col=\"timestamp\"\n",
        ")\n",
        "\n",
        "print(df_small_noise.shape, df_daily_jumpsup.shape)"
      ]
    },
    {
      "cell_type": "code",
      "execution_count": 3,
      "metadata": {
        "colab": {
          "base_uri": "https://localhost:8080/",
          "height": 237
        },
        "id": "MMCdXTB1KYg0",
        "outputId": "f59f3695-b246-4631-f4ff-5aa96b3d34a4"
      },
      "outputs": [
        {
          "output_type": "execute_result",
          "data": {
            "text/plain": [
              "                         value\n",
              "timestamp                     \n",
              "2014-04-01 00:00:00  18.324919\n",
              "2014-04-01 00:05:00  21.970327\n",
              "2014-04-01 00:10:00  18.624806\n",
              "2014-04-01 00:15:00  21.953684\n",
              "2014-04-01 00:20:00  21.909120"
            ],
            "text/html": [
              "\n",
              "  <div id=\"df-63766ca9-c423-43d7-a4ff-4b80cf3d24b8\" class=\"colab-df-container\">\n",
              "    <div>\n",
              "<style scoped>\n",
              "    .dataframe tbody tr th:only-of-type {\n",
              "        vertical-align: middle;\n",
              "    }\n",
              "\n",
              "    .dataframe tbody tr th {\n",
              "        vertical-align: top;\n",
              "    }\n",
              "\n",
              "    .dataframe thead th {\n",
              "        text-align: right;\n",
              "    }\n",
              "</style>\n",
              "<table border=\"1\" class=\"dataframe\">\n",
              "  <thead>\n",
              "    <tr style=\"text-align: right;\">\n",
              "      <th></th>\n",
              "      <th>value</th>\n",
              "    </tr>\n",
              "    <tr>\n",
              "      <th>timestamp</th>\n",
              "      <th></th>\n",
              "    </tr>\n",
              "  </thead>\n",
              "  <tbody>\n",
              "    <tr>\n",
              "      <th>2014-04-01 00:00:00</th>\n",
              "      <td>18.324919</td>\n",
              "    </tr>\n",
              "    <tr>\n",
              "      <th>2014-04-01 00:05:00</th>\n",
              "      <td>21.970327</td>\n",
              "    </tr>\n",
              "    <tr>\n",
              "      <th>2014-04-01 00:10:00</th>\n",
              "      <td>18.624806</td>\n",
              "    </tr>\n",
              "    <tr>\n",
              "      <th>2014-04-01 00:15:00</th>\n",
              "      <td>21.953684</td>\n",
              "    </tr>\n",
              "    <tr>\n",
              "      <th>2014-04-01 00:20:00</th>\n",
              "      <td>21.909120</td>\n",
              "    </tr>\n",
              "  </tbody>\n",
              "</table>\n",
              "</div>\n",
              "    <div class=\"colab-df-buttons\">\n",
              "\n",
              "  <div class=\"colab-df-container\">\n",
              "    <button class=\"colab-df-convert\" onclick=\"convertToInteractive('df-63766ca9-c423-43d7-a4ff-4b80cf3d24b8')\"\n",
              "            title=\"Convert this dataframe to an interactive table.\"\n",
              "            style=\"display:none;\">\n",
              "\n",
              "  <svg xmlns=\"http://www.w3.org/2000/svg\" height=\"24px\" viewBox=\"0 -960 960 960\">\n",
              "    <path d=\"M120-120v-720h720v720H120Zm60-500h600v-160H180v160Zm220 220h160v-160H400v160Zm0 220h160v-160H400v160ZM180-400h160v-160H180v160Zm440 0h160v-160H620v160ZM180-180h160v-160H180v160Zm440 0h160v-160H620v160Z\"/>\n",
              "  </svg>\n",
              "    </button>\n",
              "\n",
              "  <style>\n",
              "    .colab-df-container {\n",
              "      display:flex;\n",
              "      gap: 12px;\n",
              "    }\n",
              "\n",
              "    .colab-df-convert {\n",
              "      background-color: #E8F0FE;\n",
              "      border: none;\n",
              "      border-radius: 50%;\n",
              "      cursor: pointer;\n",
              "      display: none;\n",
              "      fill: #1967D2;\n",
              "      height: 32px;\n",
              "      padding: 0 0 0 0;\n",
              "      width: 32px;\n",
              "    }\n",
              "\n",
              "    .colab-df-convert:hover {\n",
              "      background-color: #E2EBFA;\n",
              "      box-shadow: 0px 1px 2px rgba(60, 64, 67, 0.3), 0px 1px 3px 1px rgba(60, 64, 67, 0.15);\n",
              "      fill: #174EA6;\n",
              "    }\n",
              "\n",
              "    .colab-df-buttons div {\n",
              "      margin-bottom: 4px;\n",
              "    }\n",
              "\n",
              "    [theme=dark] .colab-df-convert {\n",
              "      background-color: #3B4455;\n",
              "      fill: #D2E3FC;\n",
              "    }\n",
              "\n",
              "    [theme=dark] .colab-df-convert:hover {\n",
              "      background-color: #434B5C;\n",
              "      box-shadow: 0px 1px 3px 1px rgba(0, 0, 0, 0.15);\n",
              "      filter: drop-shadow(0px 1px 2px rgba(0, 0, 0, 0.3));\n",
              "      fill: #FFFFFF;\n",
              "    }\n",
              "  </style>\n",
              "\n",
              "    <script>\n",
              "      const buttonEl =\n",
              "        document.querySelector('#df-63766ca9-c423-43d7-a4ff-4b80cf3d24b8 button.colab-df-convert');\n",
              "      buttonEl.style.display =\n",
              "        google.colab.kernel.accessAllowed ? 'block' : 'none';\n",
              "\n",
              "      async function convertToInteractive(key) {\n",
              "        const element = document.querySelector('#df-63766ca9-c423-43d7-a4ff-4b80cf3d24b8');\n",
              "        const dataTable =\n",
              "          await google.colab.kernel.invokeFunction('convertToInteractive',\n",
              "                                                    [key], {});\n",
              "        if (!dataTable) return;\n",
              "\n",
              "        const docLinkHtml = 'Like what you see? Visit the ' +\n",
              "          '<a target=\"_blank\" href=https://colab.research.google.com/notebooks/data_table.ipynb>data table notebook</a>'\n",
              "          + ' to learn more about interactive tables.';\n",
              "        element.innerHTML = '';\n",
              "        dataTable['output_type'] = 'display_data';\n",
              "        await google.colab.output.renderOutput(dataTable, element);\n",
              "        const docLink = document.createElement('div');\n",
              "        docLink.innerHTML = docLinkHtml;\n",
              "        element.appendChild(docLink);\n",
              "      }\n",
              "    </script>\n",
              "  </div>\n",
              "\n",
              "\n",
              "<div id=\"df-d4365d51-c97e-4f94-89b9-f70e2904de6d\">\n",
              "  <button class=\"colab-df-quickchart\" onclick=\"quickchart('df-d4365d51-c97e-4f94-89b9-f70e2904de6d')\"\n",
              "            title=\"Suggest charts\"\n",
              "            style=\"display:none;\">\n",
              "\n",
              "<svg xmlns=\"http://www.w3.org/2000/svg\" height=\"24px\"viewBox=\"0 0 24 24\"\n",
              "     width=\"24px\">\n",
              "    <g>\n",
              "        <path d=\"M19 3H5c-1.1 0-2 .9-2 2v14c0 1.1.9 2 2 2h14c1.1 0 2-.9 2-2V5c0-1.1-.9-2-2-2zM9 17H7v-7h2v7zm4 0h-2V7h2v10zm4 0h-2v-4h2v4z\"/>\n",
              "    </g>\n",
              "</svg>\n",
              "  </button>\n",
              "\n",
              "<style>\n",
              "  .colab-df-quickchart {\n",
              "      --bg-color: #E8F0FE;\n",
              "      --fill-color: #1967D2;\n",
              "      --hover-bg-color: #E2EBFA;\n",
              "      --hover-fill-color: #174EA6;\n",
              "      --disabled-fill-color: #AAA;\n",
              "      --disabled-bg-color: #DDD;\n",
              "  }\n",
              "\n",
              "  [theme=dark] .colab-df-quickchart {\n",
              "      --bg-color: #3B4455;\n",
              "      --fill-color: #D2E3FC;\n",
              "      --hover-bg-color: #434B5C;\n",
              "      --hover-fill-color: #FFFFFF;\n",
              "      --disabled-bg-color: #3B4455;\n",
              "      --disabled-fill-color: #666;\n",
              "  }\n",
              "\n",
              "  .colab-df-quickchart {\n",
              "    background-color: var(--bg-color);\n",
              "    border: none;\n",
              "    border-radius: 50%;\n",
              "    cursor: pointer;\n",
              "    display: none;\n",
              "    fill: var(--fill-color);\n",
              "    height: 32px;\n",
              "    padding: 0;\n",
              "    width: 32px;\n",
              "  }\n",
              "\n",
              "  .colab-df-quickchart:hover {\n",
              "    background-color: var(--hover-bg-color);\n",
              "    box-shadow: 0 1px 2px rgba(60, 64, 67, 0.3), 0 1px 3px 1px rgba(60, 64, 67, 0.15);\n",
              "    fill: var(--button-hover-fill-color);\n",
              "  }\n",
              "\n",
              "  .colab-df-quickchart-complete:disabled,\n",
              "  .colab-df-quickchart-complete:disabled:hover {\n",
              "    background-color: var(--disabled-bg-color);\n",
              "    fill: var(--disabled-fill-color);\n",
              "    box-shadow: none;\n",
              "  }\n",
              "\n",
              "  .colab-df-spinner {\n",
              "    border: 2px solid var(--fill-color);\n",
              "    border-color: transparent;\n",
              "    border-bottom-color: var(--fill-color);\n",
              "    animation:\n",
              "      spin 1s steps(1) infinite;\n",
              "  }\n",
              "\n",
              "  @keyframes spin {\n",
              "    0% {\n",
              "      border-color: transparent;\n",
              "      border-bottom-color: var(--fill-color);\n",
              "      border-left-color: var(--fill-color);\n",
              "    }\n",
              "    20% {\n",
              "      border-color: transparent;\n",
              "      border-left-color: var(--fill-color);\n",
              "      border-top-color: var(--fill-color);\n",
              "    }\n",
              "    30% {\n",
              "      border-color: transparent;\n",
              "      border-left-color: var(--fill-color);\n",
              "      border-top-color: var(--fill-color);\n",
              "      border-right-color: var(--fill-color);\n",
              "    }\n",
              "    40% {\n",
              "      border-color: transparent;\n",
              "      border-right-color: var(--fill-color);\n",
              "      border-top-color: var(--fill-color);\n",
              "    }\n",
              "    60% {\n",
              "      border-color: transparent;\n",
              "      border-right-color: var(--fill-color);\n",
              "    }\n",
              "    80% {\n",
              "      border-color: transparent;\n",
              "      border-right-color: var(--fill-color);\n",
              "      border-bottom-color: var(--fill-color);\n",
              "    }\n",
              "    90% {\n",
              "      border-color: transparent;\n",
              "      border-bottom-color: var(--fill-color);\n",
              "    }\n",
              "  }\n",
              "</style>\n",
              "\n",
              "  <script>\n",
              "    async function quickchart(key) {\n",
              "      const quickchartButtonEl =\n",
              "        document.querySelector('#' + key + ' button');\n",
              "      quickchartButtonEl.disabled = true;  // To prevent multiple clicks.\n",
              "      quickchartButtonEl.classList.add('colab-df-spinner');\n",
              "      try {\n",
              "        const charts = await google.colab.kernel.invokeFunction(\n",
              "            'suggestCharts', [key], {});\n",
              "      } catch (error) {\n",
              "        console.error('Error during call to suggestCharts:', error);\n",
              "      }\n",
              "      quickchartButtonEl.classList.remove('colab-df-spinner');\n",
              "      quickchartButtonEl.classList.add('colab-df-quickchart-complete');\n",
              "    }\n",
              "    (() => {\n",
              "      let quickchartButtonEl =\n",
              "        document.querySelector('#df-d4365d51-c97e-4f94-89b9-f70e2904de6d button');\n",
              "      quickchartButtonEl.style.display =\n",
              "        google.colab.kernel.accessAllowed ? 'block' : 'none';\n",
              "    })();\n",
              "  </script>\n",
              "</div>\n",
              "\n",
              "    </div>\n",
              "  </div>\n"
            ]
          },
          "metadata": {},
          "execution_count": 3
        }
      ],
      "source": [
        "df_small_noise.head()"
      ]
    },
    {
      "cell_type": "code",
      "execution_count": 4,
      "metadata": {
        "colab": {
          "base_uri": "https://localhost:8080/",
          "height": 237
        },
        "id": "8GtiSMIwG-2P",
        "outputId": "20d88cb7-781a-4b0d-e11e-258cda72048c"
      },
      "outputs": [
        {
          "output_type": "execute_result",
          "data": {
            "text/plain": [
              "                         value\n",
              "timestamp                     \n",
              "2014-04-01 00:00:00  19.761252\n",
              "2014-04-01 00:05:00  20.500833\n",
              "2014-04-01 00:10:00  19.961641\n",
              "2014-04-01 00:15:00  21.490266\n",
              "2014-04-01 00:20:00  20.187739"
            ],
            "text/html": [
              "\n",
              "  <div id=\"df-03621836-76a5-4da7-9bb1-251eb1bcbc54\" class=\"colab-df-container\">\n",
              "    <div>\n",
              "<style scoped>\n",
              "    .dataframe tbody tr th:only-of-type {\n",
              "        vertical-align: middle;\n",
              "    }\n",
              "\n",
              "    .dataframe tbody tr th {\n",
              "        vertical-align: top;\n",
              "    }\n",
              "\n",
              "    .dataframe thead th {\n",
              "        text-align: right;\n",
              "    }\n",
              "</style>\n",
              "<table border=\"1\" class=\"dataframe\">\n",
              "  <thead>\n",
              "    <tr style=\"text-align: right;\">\n",
              "      <th></th>\n",
              "      <th>value</th>\n",
              "    </tr>\n",
              "    <tr>\n",
              "      <th>timestamp</th>\n",
              "      <th></th>\n",
              "    </tr>\n",
              "  </thead>\n",
              "  <tbody>\n",
              "    <tr>\n",
              "      <th>2014-04-01 00:00:00</th>\n",
              "      <td>19.761252</td>\n",
              "    </tr>\n",
              "    <tr>\n",
              "      <th>2014-04-01 00:05:00</th>\n",
              "      <td>20.500833</td>\n",
              "    </tr>\n",
              "    <tr>\n",
              "      <th>2014-04-01 00:10:00</th>\n",
              "      <td>19.961641</td>\n",
              "    </tr>\n",
              "    <tr>\n",
              "      <th>2014-04-01 00:15:00</th>\n",
              "      <td>21.490266</td>\n",
              "    </tr>\n",
              "    <tr>\n",
              "      <th>2014-04-01 00:20:00</th>\n",
              "      <td>20.187739</td>\n",
              "    </tr>\n",
              "  </tbody>\n",
              "</table>\n",
              "</div>\n",
              "    <div class=\"colab-df-buttons\">\n",
              "\n",
              "  <div class=\"colab-df-container\">\n",
              "    <button class=\"colab-df-convert\" onclick=\"convertToInteractive('df-03621836-76a5-4da7-9bb1-251eb1bcbc54')\"\n",
              "            title=\"Convert this dataframe to an interactive table.\"\n",
              "            style=\"display:none;\">\n",
              "\n",
              "  <svg xmlns=\"http://www.w3.org/2000/svg\" height=\"24px\" viewBox=\"0 -960 960 960\">\n",
              "    <path d=\"M120-120v-720h720v720H120Zm60-500h600v-160H180v160Zm220 220h160v-160H400v160Zm0 220h160v-160H400v160ZM180-400h160v-160H180v160Zm440 0h160v-160H620v160ZM180-180h160v-160H180v160Zm440 0h160v-160H620v160Z\"/>\n",
              "  </svg>\n",
              "    </button>\n",
              "\n",
              "  <style>\n",
              "    .colab-df-container {\n",
              "      display:flex;\n",
              "      gap: 12px;\n",
              "    }\n",
              "\n",
              "    .colab-df-convert {\n",
              "      background-color: #E8F0FE;\n",
              "      border: none;\n",
              "      border-radius: 50%;\n",
              "      cursor: pointer;\n",
              "      display: none;\n",
              "      fill: #1967D2;\n",
              "      height: 32px;\n",
              "      padding: 0 0 0 0;\n",
              "      width: 32px;\n",
              "    }\n",
              "\n",
              "    .colab-df-convert:hover {\n",
              "      background-color: #E2EBFA;\n",
              "      box-shadow: 0px 1px 2px rgba(60, 64, 67, 0.3), 0px 1px 3px 1px rgba(60, 64, 67, 0.15);\n",
              "      fill: #174EA6;\n",
              "    }\n",
              "\n",
              "    .colab-df-buttons div {\n",
              "      margin-bottom: 4px;\n",
              "    }\n",
              "\n",
              "    [theme=dark] .colab-df-convert {\n",
              "      background-color: #3B4455;\n",
              "      fill: #D2E3FC;\n",
              "    }\n",
              "\n",
              "    [theme=dark] .colab-df-convert:hover {\n",
              "      background-color: #434B5C;\n",
              "      box-shadow: 0px 1px 3px 1px rgba(0, 0, 0, 0.15);\n",
              "      filter: drop-shadow(0px 1px 2px rgba(0, 0, 0, 0.3));\n",
              "      fill: #FFFFFF;\n",
              "    }\n",
              "  </style>\n",
              "\n",
              "    <script>\n",
              "      const buttonEl =\n",
              "        document.querySelector('#df-03621836-76a5-4da7-9bb1-251eb1bcbc54 button.colab-df-convert');\n",
              "      buttonEl.style.display =\n",
              "        google.colab.kernel.accessAllowed ? 'block' : 'none';\n",
              "\n",
              "      async function convertToInteractive(key) {\n",
              "        const element = document.querySelector('#df-03621836-76a5-4da7-9bb1-251eb1bcbc54');\n",
              "        const dataTable =\n",
              "          await google.colab.kernel.invokeFunction('convertToInteractive',\n",
              "                                                    [key], {});\n",
              "        if (!dataTable) return;\n",
              "\n",
              "        const docLinkHtml = 'Like what you see? Visit the ' +\n",
              "          '<a target=\"_blank\" href=https://colab.research.google.com/notebooks/data_table.ipynb>data table notebook</a>'\n",
              "          + ' to learn more about interactive tables.';\n",
              "        element.innerHTML = '';\n",
              "        dataTable['output_type'] = 'display_data';\n",
              "        await google.colab.output.renderOutput(dataTable, element);\n",
              "        const docLink = document.createElement('div');\n",
              "        docLink.innerHTML = docLinkHtml;\n",
              "        element.appendChild(docLink);\n",
              "      }\n",
              "    </script>\n",
              "  </div>\n",
              "\n",
              "\n",
              "<div id=\"df-afcb57a2-1342-4b0b-8a4b-286e3308ae04\">\n",
              "  <button class=\"colab-df-quickchart\" onclick=\"quickchart('df-afcb57a2-1342-4b0b-8a4b-286e3308ae04')\"\n",
              "            title=\"Suggest charts\"\n",
              "            style=\"display:none;\">\n",
              "\n",
              "<svg xmlns=\"http://www.w3.org/2000/svg\" height=\"24px\"viewBox=\"0 0 24 24\"\n",
              "     width=\"24px\">\n",
              "    <g>\n",
              "        <path d=\"M19 3H5c-1.1 0-2 .9-2 2v14c0 1.1.9 2 2 2h14c1.1 0 2-.9 2-2V5c0-1.1-.9-2-2-2zM9 17H7v-7h2v7zm4 0h-2V7h2v10zm4 0h-2v-4h2v4z\"/>\n",
              "    </g>\n",
              "</svg>\n",
              "  </button>\n",
              "\n",
              "<style>\n",
              "  .colab-df-quickchart {\n",
              "      --bg-color: #E8F0FE;\n",
              "      --fill-color: #1967D2;\n",
              "      --hover-bg-color: #E2EBFA;\n",
              "      --hover-fill-color: #174EA6;\n",
              "      --disabled-fill-color: #AAA;\n",
              "      --disabled-bg-color: #DDD;\n",
              "  }\n",
              "\n",
              "  [theme=dark] .colab-df-quickchart {\n",
              "      --bg-color: #3B4455;\n",
              "      --fill-color: #D2E3FC;\n",
              "      --hover-bg-color: #434B5C;\n",
              "      --hover-fill-color: #FFFFFF;\n",
              "      --disabled-bg-color: #3B4455;\n",
              "      --disabled-fill-color: #666;\n",
              "  }\n",
              "\n",
              "  .colab-df-quickchart {\n",
              "    background-color: var(--bg-color);\n",
              "    border: none;\n",
              "    border-radius: 50%;\n",
              "    cursor: pointer;\n",
              "    display: none;\n",
              "    fill: var(--fill-color);\n",
              "    height: 32px;\n",
              "    padding: 0;\n",
              "    width: 32px;\n",
              "  }\n",
              "\n",
              "  .colab-df-quickchart:hover {\n",
              "    background-color: var(--hover-bg-color);\n",
              "    box-shadow: 0 1px 2px rgba(60, 64, 67, 0.3), 0 1px 3px 1px rgba(60, 64, 67, 0.15);\n",
              "    fill: var(--button-hover-fill-color);\n",
              "  }\n",
              "\n",
              "  .colab-df-quickchart-complete:disabled,\n",
              "  .colab-df-quickchart-complete:disabled:hover {\n",
              "    background-color: var(--disabled-bg-color);\n",
              "    fill: var(--disabled-fill-color);\n",
              "    box-shadow: none;\n",
              "  }\n",
              "\n",
              "  .colab-df-spinner {\n",
              "    border: 2px solid var(--fill-color);\n",
              "    border-color: transparent;\n",
              "    border-bottom-color: var(--fill-color);\n",
              "    animation:\n",
              "      spin 1s steps(1) infinite;\n",
              "  }\n",
              "\n",
              "  @keyframes spin {\n",
              "    0% {\n",
              "      border-color: transparent;\n",
              "      border-bottom-color: var(--fill-color);\n",
              "      border-left-color: var(--fill-color);\n",
              "    }\n",
              "    20% {\n",
              "      border-color: transparent;\n",
              "      border-left-color: var(--fill-color);\n",
              "      border-top-color: var(--fill-color);\n",
              "    }\n",
              "    30% {\n",
              "      border-color: transparent;\n",
              "      border-left-color: var(--fill-color);\n",
              "      border-top-color: var(--fill-color);\n",
              "      border-right-color: var(--fill-color);\n",
              "    }\n",
              "    40% {\n",
              "      border-color: transparent;\n",
              "      border-right-color: var(--fill-color);\n",
              "      border-top-color: var(--fill-color);\n",
              "    }\n",
              "    60% {\n",
              "      border-color: transparent;\n",
              "      border-right-color: var(--fill-color);\n",
              "    }\n",
              "    80% {\n",
              "      border-color: transparent;\n",
              "      border-right-color: var(--fill-color);\n",
              "      border-bottom-color: var(--fill-color);\n",
              "    }\n",
              "    90% {\n",
              "      border-color: transparent;\n",
              "      border-bottom-color: var(--fill-color);\n",
              "    }\n",
              "  }\n",
              "</style>\n",
              "\n",
              "  <script>\n",
              "    async function quickchart(key) {\n",
              "      const quickchartButtonEl =\n",
              "        document.querySelector('#' + key + ' button');\n",
              "      quickchartButtonEl.disabled = true;  // To prevent multiple clicks.\n",
              "      quickchartButtonEl.classList.add('colab-df-spinner');\n",
              "      try {\n",
              "        const charts = await google.colab.kernel.invokeFunction(\n",
              "            'suggestCharts', [key], {});\n",
              "      } catch (error) {\n",
              "        console.error('Error during call to suggestCharts:', error);\n",
              "      }\n",
              "      quickchartButtonEl.classList.remove('colab-df-spinner');\n",
              "      quickchartButtonEl.classList.add('colab-df-quickchart-complete');\n",
              "    }\n",
              "    (() => {\n",
              "      let quickchartButtonEl =\n",
              "        document.querySelector('#df-afcb57a2-1342-4b0b-8a4b-286e3308ae04 button');\n",
              "      quickchartButtonEl.style.display =\n",
              "        google.colab.kernel.accessAllowed ? 'block' : 'none';\n",
              "    })();\n",
              "  </script>\n",
              "</div>\n",
              "\n",
              "    </div>\n",
              "  </div>\n"
            ]
          },
          "metadata": {},
          "execution_count": 4
        }
      ],
      "source": [
        "df_daily_jumpsup.head()"
      ]
    },
    {
      "cell_type": "markdown",
      "metadata": {
        "id": "SKTTCgSgG-2P"
      },
      "source": [
        "## data 시각화\n",
        "### noise 가 포함된 정상 시계열 데이터\n",
        "\n",
        "- noise가 포함된 정상 데이터를 autoencoder 훈련에 사용합니다."
      ]
    },
    {
      "cell_type": "code",
      "execution_count": 6,
      "metadata": {
        "colab": {
          "base_uri": "https://localhost:8080/",
          "height": 363
        },
        "id": "GNx8aFjrG-2Q",
        "outputId": "1c1f7589-ca56-4327-ab98-14280d206b56"
      },
      "outputs": [
        {
          "output_type": "execute_result",
          "data": {
            "text/plain": [
              "<Axes: xlabel='timestamp'>"
            ]
          },
          "metadata": {},
          "execution_count": 6
        },
        {
          "output_type": "display_data",
          "data": {
            "text/plain": [
              "<Figure size 400x300 with 1 Axes>"
            ],
            "image/png": "[encoded data removed]"
          },
          "metadata": {}
        }
      ],
      "source": [
        "df_small_noise.plot(legend=False, figsize=(4, 3))"
      ]
    },
    {
      "cell_type": "markdown",
      "metadata": {
        "id": "ufp6oDtmG-2Q"
      },
      "source": [
        "### 이상치가 있는 시계열 데이터\n",
        "\n",
        "정상 데이터로 훈련된 autoencoder 모델의 테스트를 위해 다음 데이터를 사용하고, 데이터의 갑작스러운 점프가 이상으로 감지되는지 확인합니다."
      ]
    },
    {
      "cell_type": "code",
      "execution_count": 7,
      "metadata": {
        "colab": {
          "base_uri": "https://localhost:8080/",
          "height": 362
        },
        "id": "yAlU7mhVG-2Q",
        "outputId": "059338d7-87b3-4db6-99fe-a90c04f6970b"
      },
      "outputs": [
        {
          "output_type": "execute_result",
          "data": {
            "text/plain": [
              "<Axes: xlabel='timestamp'>"
            ]
          },
          "metadata": {},
          "execution_count": 7
        },
        {
          "output_type": "display_data",
          "data": {
            "text/plain": [
              "<Figure size 400x300 with 1 Axes>"
            ],
            "image/png": "[encoded data removed]"
          },
          "metadata": {}
        }
      ],
      "source": [
        "df_daily_jumpsup.plot(legend=False, figsize=(4, 3))"
      ]
    },
    {
      "cell_type": "markdown",
      "metadata": {
        "id": "6fX-n9rJG-2Q"
      },
      "source": [
        "## 훈련 데이터 준비\n",
        "\n",
        "훈련 시계열 데이터 파일(`df_small_noise`)에서 데이터 값을 가져오고 `value` 데이터를 정규화 합니다. 14일 동안 5분마다 `value`가 있습니다.\n",
        "\n",
        "-   24일 * 60분 / 5분 = **288 timesteps per day**\n",
        "-   288 timesteps per day * 14일 = **total 4032 data points**"
      ]
    },
    {
      "cell_type": "code",
      "execution_count": 8,
      "metadata": {
        "colab": {
          "base_uri": "https://localhost:8080/"
        },
        "id": "92ZdiJFsG-2R",
        "outputId": "3a21b813-9f2e-46cd-f388-f2093db86463"
      },
      "outputs": [
        {
          "output_type": "stream",
          "name": "stdout",
          "text": [
            "훈련 샘플 수: 4032\n"
          ]
        }
      ],
      "source": [
        "# 테스트 데이터를 정규화하기 위해 정상데이터의 평균과 표준 편차를 정규화하고 저장합니다.\n",
        "training_mean = df_small_noise.mean()\n",
        "training_std = df_small_noise.std()\n",
        "\n",
        "# 평균과 표준편차를 이용하여 standard scaling\n",
        "df_training_value = (df_small_noise - training_mean) / training_std\n",
        "\n",
        "print(\"훈련 샘플 수:\", len(df_training_value))"
      ]
    },
    {
      "cell_type": "code",
      "execution_count": 9,
      "metadata": {
        "colab": {
          "base_uri": "https://localhost:8080/",
          "height": 237
        },
        "id": "QmH0EM_BKPfY",
        "outputId": "74481142-3a39-4bd9-bbe2-1563553e9c54"
      },
      "outputs": [
        {
          "output_type": "execute_result",
          "data": {
            "text/plain": [
              "                        value\n",
              "timestamp                    \n",
              "2014-04-01 00:00:00 -0.858829\n",
              "2014-04-01 00:05:00 -0.728993\n",
              "2014-04-01 00:10:00 -0.848148\n",
              "2014-04-01 00:15:00 -0.729586\n",
              "2014-04-01 00:20:00 -0.731173"
            ],
            "text/html": [
              "\n",
              "  <div id=\"df-228210a5-f21c-4c00-b10e-5df70768fadd\" class=\"colab-df-container\">\n",
              "    <div>\n",
              "<style scoped>\n",
              "    .dataframe tbody tr th:only-of-type {\n",
              "        vertical-align: middle;\n",
              "    }\n",
              "\n",
              "    .dataframe tbody tr th {\n",
              "        vertical-align: top;\n",
              "    }\n",
              "\n",
              "    .dataframe thead th {\n",
              "        text-align: right;\n",
              "    }\n",
              "</style>\n",
              "<table border=\"1\" class=\"dataframe\">\n",
              "  <thead>\n",
              "    <tr style=\"text-align: right;\">\n",
              "      <th></th>\n",
              "      <th>value</th>\n",
              "    </tr>\n",
              "    <tr>\n",
              "      <th>timestamp</th>\n",
              "      <th></th>\n",
              "    </tr>\n",
              "  </thead>\n",
              "  <tbody>\n",
              "    <tr>\n",
              "      <th>2014-04-01 00:00:00</th>\n",
              "      <td>-0.858829</td>\n",
              "    </tr>\n",
              "    <tr>\n",
              "      <th>2014-04-01 00:05:00</th>\n",
              "      <td>-0.728993</td>\n",
              "    </tr>\n",
              "    <tr>\n",
              "      <th>2014-04-01 00:10:00</th>\n",
              "      <td>-0.848148</td>\n",
              "    </tr>\n",
              "    <tr>\n",
              "      <th>2014-04-01 00:15:00</th>\n",
              "      <td>-0.729586</td>\n",
              "    </tr>\n",
              "    <tr>\n",
              "      <th>2014-04-01 00:20:00</th>\n",
              "      <td>-0.731173</td>\n",
              "    </tr>\n",
              "  </tbody>\n",
              "</table>\n",
              "</div>\n",
              "    <div class=\"colab-df-buttons\">\n",
              "\n",
              "  <div class=\"colab-df-container\">\n",
              "    <button class=\"colab-df-convert\" onclick=\"convertToInteractive('df-228210a5-f21c-4c00-b10e-5df70768fadd')\"\n",
              "            title=\"Convert this dataframe to an interactive table.\"\n",
              "            style=\"display:none;\">\n",
              "\n",
              "  <svg xmlns=\"http://www.w3.org/2000/svg\" height=\"24px\" viewBox=\"0 -960 960 960\">\n",
              "    <path d=\"M120-120v-720h720v720H120Zm60-500h600v-160H180v160Zm220 220h160v-160H400v160Zm0 220h160v-160H400v160ZM180-400h160v-160H180v160Zm440 0h160v-160H620v160ZM180-180h160v-160H180v160Zm440 0h160v-160H620v160Z\"/>\n",
              "  </svg>\n",
              "    </button>\n",
              "\n",
              "  <style>\n",
              "    .colab-df-container {\n",
              "      display:flex;\n",
              "      gap: 12px;\n",
              "    }\n",
              "\n",
              "    .colab-df-convert {\n",
              "      background-color: #E8F0FE;\n",
              "      border: none;\n",
              "      border-radius: 50%;\n",
              "      cursor: pointer;\n",
              "      display: none;\n",
              "      fill: #1967D2;\n",
              "      height: 32px;\n",
              "      padding: 0 0 0 0;\n",
              "      width: 32px;\n",
              "    }\n",
              "\n",
              "    .colab-df-convert:hover {\n",
              "      background-color: #E2EBFA;\n",
              "      box-shadow: 0px 1px 2px rgba(60, 64, 67, 0.3), 0px 1px 3px 1px rgba(60, 64, 67, 0.15);\n",
              "      fill: #174EA6;\n",
              "    }\n",
              "\n",
              "    .colab-df-buttons div {\n",
              "      margin-bottom: 4px;\n",
              "    }\n",
              "\n",
              "    [theme=dark] .colab-df-convert {\n",
              "      background-color: #3B4455;\n",
              "      fill: #D2E3FC;\n",
              "    }\n",
              "\n",
              "    [theme=dark] .colab-df-convert:hover {\n",
              "      background-color: #434B5C;\n",
              "      box-shadow: 0px 1px 3px 1px rgba(0, 0, 0, 0.15);\n",
              "      filter: drop-shadow(0px 1px 2px rgba(0, 0, 0, 0.3));\n",
              "      fill: #FFFFFF;\n",
              "    }\n",
              "  </style>\n",
              "\n",
              "    <script>\n",
              "      const buttonEl =\n",
              "        document.querySelector('#df-228210a5-f21c-4c00-b10e-5df70768fadd button.colab-df-convert');\n",
              "      buttonEl.style.display =\n",
              "        google.colab.kernel.accessAllowed ? 'block' : 'none';\n",
              "\n",
              "      async function convertToInteractive(key) {\n",
              "        const element = document.querySelector('#df-228210a5-f21c-4c00-b10e-5df70768fadd');\n",
              "        const dataTable =\n",
              "          await google.colab.kernel.invokeFunction('convertToInteractive',\n",
              "                                                    [key], {});\n",
              "        if (!dataTable) return;\n",
              "\n",
              "        const docLinkHtml = 'Like what you see? Visit the ' +\n",
              "          '<a target=\"_blank\" href=https://colab.research.google.com/notebooks/data_table.ipynb>data table notebook</a>'\n",
              "          + ' to learn more about interactive tables.';\n",
              "        element.innerHTML = '';\n",
              "        dataTable['output_type'] = 'display_data';\n",
              "        await google.colab.output.renderOutput(dataTable, element);\n",
              "        const docLink = document.createElement('div');\n",
              "        docLink.innerHTML = docLinkHtml;\n",
              "        element.appendChild(docLink);\n",
              "      }\n",
              "    </script>\n",
              "  </div>\n",
              "\n",
              "\n",
              "<div id=\"df-9216d210-2fa8-45da-9e74-f4bc6f5f18cb\">\n",
              "  <button class=\"colab-df-quickchart\" onclick=\"quickchart('df-9216d210-2fa8-45da-9e74-f4bc6f5f18cb')\"\n",
              "            title=\"Suggest charts\"\n",
              "            style=\"display:none;\">\n",
              "\n",
              "<svg xmlns=\"http://www.w3.org/2000/svg\" height=\"24px\"viewBox=\"0 0 24 24\"\n",
              "     width=\"24px\">\n",
              "    <g>\n",
              "        <path d=\"M19 3H5c-1.1 0-2 .9-2 2v14c0 1.1.9 2 2 2h14c1.1 0 2-.9 2-2V5c0-1.1-.9-2-2-2zM9 17H7v-7h2v7zm4 0h-2V7h2v10zm4 0h-2v-4h2v4z\"/>\n",
              "    </g>\n",
              "</svg>\n",
              "  </button>\n",
              "\n",
              "<style>\n",
              "  .colab-df-quickchart {\n",
              "      --bg-color: #E8F0FE;\n",
              "      --fill-color: #1967D2;\n",
              "      --hover-bg-color: #E2EBFA;\n",
              "      --hover-fill-color: #174EA6;\n",
              "      --disabled-fill-color: #AAA;\n",
              "      --disabled-bg-color: #DDD;\n",
              "  }\n",
              "\n",
              "  [theme=dark] .colab-df-quickchart {\n",
              "      --bg-color: #3B4455;\n",
              "      --fill-color: #D2E3FC;\n",
              "      --hover-bg-color: #434B5C;\n",
              "      --hover-fill-color: #FFFFFF;\n",
              "      --disabled-bg-color: #3B4455;\n",
              "      --disabled-fill-color: #666;\n",
              "  }\n",
              "\n",
              "  .colab-df-quickchart {\n",
              "    background-color: var(--bg-color);\n",
              "    border: none;\n",
              "    border-radius: 50%;\n",
              "    cursor: pointer;\n",
              "    display: none;\n",
              "    fill: var(--fill-color);\n",
              "    height: 32px;\n",
              "    padding: 0;\n",
              "    width: 32px;\n",
              "  }\n",
              "\n",
              "  .colab-df-quickchart:hover {\n",
              "    background-color: var(--hover-bg-color);\n",
              "    box-shadow: 0 1px 2px rgba(60, 64, 67, 0.3), 0 1px 3px 1px rgba(60, 64, 67, 0.15);\n",
              "    fill: var(--button-hover-fill-color);\n",
              "  }\n",
              "\n",
              "  .colab-df-quickchart-complete:disabled,\n",
              "  .colab-df-quickchart-complete:disabled:hover {\n",
              "    background-color: var(--disabled-bg-color);\n",
              "    fill: var(--disabled-fill-color);\n",
              "    box-shadow: none;\n",
              "  }\n",
              "\n",
              "  .colab-df-spinner {\n",
              "    border: 2px solid var(--fill-color);\n",
              "    border-color: transparent;\n",
              "    border-bottom-color: var(--fill-color);\n",
              "    animation:\n",
              "      spin 1s steps(1) infinite;\n",
              "  }\n",
              "\n",
              "  @keyframes spin {\n",
              "    0% {\n",
              "      border-color: transparent;\n",
              "      border-bottom-color: var(--fill-color);\n",
              "      border-left-color: var(--fill-color);\n",
              "    }\n",
              "    20% {\n",
              "      border-color: transparent;\n",
              "      border-left-color: var(--fill-color);\n",
              "      border-top-color: var(--fill-color);\n",
              "    }\n",
              "    30% {\n",
              "      border-color: transparent;\n",
              "      border-left-color: var(--fill-color);\n",
              "      border-top-color: var(--fill-color);\n",
              "      border-right-color: var(--fill-color);\n",
              "    }\n",
              "    40% {\n",
              "      border-color: transparent;\n",
              "      border-right-color: var(--fill-color);\n",
              "      border-top-color: var(--fill-color);\n",
              "    }\n",
              "    60% {\n",
              "      border-color: transparent;\n",
              "      border-right-color: var(--fill-color);\n",
              "    }\n",
              "    80% {\n",
              "      border-color: transparent;\n",
              "      border-right-color: var(--fill-color);\n",
              "      border-bottom-color: var(--fill-color);\n",
              "    }\n",
              "    90% {\n",
              "      border-color: transparent;\n",
              "      border-bottom-color: var(--fill-color);\n",
              "    }\n",
              "  }\n",
              "</style>\n",
              "\n",
              "  <script>\n",
              "    async function quickchart(key) {\n",
              "      const quickchartButtonEl =\n",
              "        document.querySelector('#' + key + ' button');\n",
              "      quickchartButtonEl.disabled = true;  // To prevent multiple clicks.\n",
              "      quickchartButtonEl.classList.add('colab-df-spinner');\n",
              "      try {\n",
              "        const charts = await google.colab.kernel.invokeFunction(\n",
              "            'suggestCharts', [key], {});\n",
              "      } catch (error) {\n",
              "        console.error('Error during call to suggestCharts:', error);\n",
              "      }\n",
              "      quickchartButtonEl.classList.remove('colab-df-spinner');\n",
              "      quickchartButtonEl.classList.add('colab-df-quickchart-complete');\n",
              "    }\n",
              "    (() => {\n",
              "      let quickchartButtonEl =\n",
              "        document.querySelector('#df-9216d210-2fa8-45da-9e74-f4bc6f5f18cb button');\n",
              "      quickchartButtonEl.style.display =\n",
              "        google.colab.kernel.accessAllowed ? 'block' : 'none';\n",
              "    })();\n",
              "  </script>\n",
              "</div>\n",
              "\n",
              "    </div>\n",
              "  </div>\n"
            ]
          },
          "metadata": {},
          "execution_count": 9
        }
      ],
      "source": [
        "# normalize된 df_small_noise\n",
        "df_training_value.head()"
      ]
    },
    {
      "cell_type": "markdown",
      "metadata": {
        "id": "ZN1UCrvqG-2R"
      },
      "source": [
        "### 시퀀스 data 생성\n",
        "\n",
        "훈련 데이터에서 `TIME_STEPS` window size의 training 시퀀스를 생성합니다."
      ]
    },
    {
      "cell_type": "code",
      "execution_count": 10,
      "metadata": {
        "colab": {
          "base_uri": "https://localhost:8080/"
        },
        "id": "qcwgEcJ7G-2S",
        "outputId": "0811b47f-882a-42ae-fc38-191249f10642"
      },
      "outputs": [
        {
          "output_type": "stream",
          "name": "stdout",
          "text": [
            "Training input shape:  (3745, 288, 1)\n"
          ]
        }
      ],
      "source": [
        "TIME_STEPS = 288\n",
        "\n",
        "# 모델에서 사용하기 위해 생성된 훈련 시퀀스\n",
        "def create_sequences(values, window_size=TIME_STEPS):\n",
        "    output = []\n",
        "    for i in range(len(values) - window_size + 1):\n",
        "        output.append(values[i : (i + window_size)])\n",
        "    return np.stack(output)\n",
        "\n",
        "X_train = create_sequences(df_training_value.values)\n",
        "print(\"Training input shape: \", X_train.shape)"
      ]
    },
    {
      "cell_type": "markdown",
      "metadata": {
        "id": "RhDXsWZyG-2S"
      },
      "source": [
        "## Build a model\n",
        "\n",
        "컨볼루션 재구성 오토인코더 모델을 구축합니다. 모델은 `(batch_size, sequence_length, num_features)`  shape의 입력을 받고 동일한 shape의 출력을 반환합니다. 이 경우 `sequence_length`는 288이고 `num_features`는 1입니다.\n",
        "\n",
        "![image.png](data:image/png;base64,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)"
      ]
    },
    {
      "cell_type": "code",
      "execution_count": 11,
      "metadata": {
        "colab": {
          "base_uri": "https://localhost:8080/"
        },
        "id": "Hcukw5SIFcOr",
        "outputId": "e417cb69-e7a2-445f-b7e9-73ec877dacd2"
      },
      "outputs": [
        {
          "output_type": "execute_result",
          "data": {
            "text/plain": [
              "(288, 1)"
            ]
          },
          "metadata": {},
          "execution_count": 11
        }
      ],
      "source": [
        "X_train.shape[1], X_train.shape[2]"
      ]
    },
    {
      "cell_type": "code",
      "execution_count": 12,
      "metadata": {
        "colab": {
          "base_uri": "https://localhost:8080/"
        },
        "id": "hUueWTaaG-2S",
        "outputId": "0973cc88-b72c-4a4b-920f-b68e8f6c5a1f"
      },
      "outputs": [
        {
          "output_type": "stream",
          "name": "stdout",
          "text": [
            "Model: \"sequential\"\n",
            "_________________________________________________________________\n",
            " Layer (type)                Output Shape              Param #   \n",
            "=================================================================\n",
            " conv1d (Conv1D)             (None, 144, 32)           256       \n",
            "                                                                 \n",
            " dropout (Dropout)           (None, 144, 32)           0         \n",
            "                                                                 \n",
            " conv1d_1 (Conv1D)           (None, 72, 16)            3600      \n",
            "                                                                 \n",
            " dropout_1 (Dropout)         (None, 72, 16)            0         \n",
            "                                                                 \n",
            " conv1d_transpose (Conv1DTr  (None, 144, 16)           1808      \n",
            " anspose)                                                        \n",
            "                                                                 \n",
            " conv1d_transpose_1 (Conv1D  (None, 288, 32)           3616      \n",
            " Transpose)                                                      \n",
            "                                                                 \n",
            " conv1d_transpose_2 (Conv1D  (None, 288, 1)            33        \n",
            " Transpose)                                                      \n",
            "                                                                 \n",
            "=================================================================\n",
            "Total params: 9313 (36.38 KB)\n",
            "Trainable params: 9313 (36.38 KB)\n",
            "Non-trainable params: 0 (0.00 Byte)\n",
            "_________________________________________________________________\n"
          ]
        }
      ],
      "source": [
        "model = keras.Sequential([\n",
        "        Input(shape=(X_train.shape[1], X_train.shape[2])),\n",
        "        Conv1D(filters=32, kernel_size=7, padding=\"same\",\n",
        "               strides=2, activation=\"relu\"),\n",
        "        Dropout(rate=0.2),\n",
        "        Conv1D(filters=16, kernel_size=7, padding=\"same\",\n",
        "               strides=2, activation=\"relu\"),\n",
        "        Dropout(rate=0.2),\n",
        "        Conv1DTranspose(filters=16, kernel_size=7, padding=\"same\",\n",
        "                        strides=2, activation=\"relu\"),\n",
        "        Conv1DTranspose(filters=32, kernel_size=7, padding=\"same\",\n",
        "                        strides=2, activation=\"relu\"),\n",
        "        Conv1DTranspose(filters=1, kernel_size=1, padding=\"same\"),\n",
        "    ])\n",
        "\n",
        "model.compile(optimizer=keras.optimizers.Adam(learning_rate=0.001), loss=\"mse\")\n",
        "model.summary()"
      ]
    },
    {
      "cell_type": "markdown",
      "metadata": {
        "id": "zdrVAtcIG-2T"
      },
      "source": [
        "## 정상 데이터만으로 모델 train\n",
        "\n",
        "재구성 모델이기 때문에 Input과 Target 모두 `X_train`을 사용합니다."
      ]
    },
    {
      "cell_type": "code",
      "execution_count": 13,
      "metadata": {
        "colab": {
          "base_uri": "https://localhost:8080/"
        },
        "id": "RXyZuXc6G-2T",
        "outputId": "7164817b-5bf0-4a1e-ced9-c7517e9d75cc"
      },
      "outputs": [
        {
          "output_type": "stream",
          "name": "stdout",
          "text": [
            "Epoch 1/50\n",
            "27/27 [==============================] - 13s 28ms/step - loss: 0.6312 - val_loss: 0.1558\n",
            "Epoch 2/50\n",
            "27/27 [==============================] - 0s 7ms/step - loss: 0.0953 - val_loss: 0.0452\n",
            "Epoch 3/50\n",
            "27/27 [==============================] - 0s 7ms/step - loss: 0.0570 - val_loss: 0.0357\n",
            "Epoch 4/50\n",
            "27/27 [==============================] - 0s 6ms/step - loss: 0.0485 - val_loss: 0.0315\n",
            "Epoch 5/50\n",
            "27/27 [==============================] - 0s 6ms/step - loss: 0.0421 - val_loss: 0.0275\n",
            "Epoch 6/50\n",
            "27/27 [==============================] - 0s 6ms/step - loss: 0.0371 - val_loss: 0.0245\n",
            "Epoch 7/50\n",
            "27/27 [==============================] - 0s 6ms/step - loss: 0.0336 - val_loss: 0.0238\n",
            "Epoch 8/50\n",
            "27/27 [==============================] - 0s 6ms/step - loss: 0.0312 - val_loss: 0.0233\n",
            "Epoch 9/50\n",
            "27/27 [==============================] - 0s 6ms/step - loss: 0.0293 - val_loss: 0.0236\n",
            "Epoch 10/50\n",
            "27/27 [==============================] - 0s 6ms/step - loss: 0.0278 - val_loss: 0.0246\n",
            "Epoch 11/50\n",
            "27/27 [==============================] - 0s 6ms/step - loss: 0.0265 - val_loss: 0.0248\n",
            "Epoch 12/50\n",
            "27/27 [==============================] - 0s 6ms/step - loss: 0.0254 - val_loss: 0.0260\n",
            "Epoch 13/50\n",
            "27/27 [==============================] - 0s 6ms/step - loss: 0.0243 - val_loss: 0.0254\n"
          ]
        }
      ],
      "source": [
        "history = model.fit(\n",
        "    X_train, X_train,\n",
        "    epochs=50, batch_size=128, validation_split=0.1,\n",
        "    callbacks=[\n",
        "        keras.callbacks.EarlyStopping(monitor=\"val_loss\", patience=5, mode=\"min\")\n",
        "    ]\n",
        ")"
      ]
    },
    {
      "cell_type": "code",
      "execution_count": 14,
      "metadata": {
        "colab": {
          "base_uri": "https://localhost:8080/",
          "height": 430
        },
        "id": "FtZaGP5zG-2T",
        "outputId": "18587b1c-f3dd-40f2-eba8-8fafa427751e"
      },
      "outputs": [
        {
          "output_type": "display_data",
          "data": {
            "text/plain": [
              "<Figure size 640x480 with 1 Axes>"
            ],
            "image/png": "[encoded data removed]"
          },
          "metadata": {}
        }
      ],
      "source": [
        "plt.plot(history.history[\"loss\"], label=\"Training Loss\")\n",
        "plt.plot(history.history[\"val_loss\"], label=\"Validation Loss\")\n",
        "plt.legend()\n",
        "plt.show()"
      ]
    },
    {
      "cell_type": "markdown",
      "metadata": {
        "id": "IohNlSXdG-2T"
      },
      "source": [
        "## 이상 감지\n",
        "\n",
        "모델이 입력 데이터를 얼마나 잘 재구성할 수 있는지 결정하여 이상을 감지합니다.\n",
        "\n",
        "1.   훈련 샘플에서 MAE 손실을 찾습니다.\n",
        "2.   최대 MAE 손실 값을 찾습니다. 이것은 우리 모델이 샘플을 재구성하기 위해 수행한 최악의 작업입니다. 이를 이상 감지의 `threshold`로 설정합니다.\n",
        "3.   샘플의 재구성 손실이 이 `threshold` 보다 크면 모델이 익숙하지 않은 패턴을 보고 있다고 추론할 수 있습니다. 우리는 이 샘플을 `anomaly`로 분류할 것입니다."
      ]
    },
    {
      "cell_type": "markdown",
      "metadata": {
        "id": "pfYrBdB7FcOs"
      },
      "source": [
        "- 정상데이터의 MAE 손실 시각화"
      ]
    },
    {
      "cell_type": "code",
      "execution_count": 15,
      "metadata": {
        "colab": {
          "base_uri": "https://localhost:8080/",
          "height": 468
        },
        "id": "tGQXjt8vG-2U",
        "outputId": "5fa86cdb-ffff-4658-e233-48632ce8e6f7"
      },
      "outputs": [
        {
          "output_type": "stream",
          "name": "stdout",
          "text": [
            "118/118 [==============================] - 1s 3ms/step\n"
          ]
        },
        {
          "output_type": "display_data",
          "data": {
            "text/plain": [
              "<Figure size 640x480 with 1 Axes>"
            ],
            "image/png": "[encoded data removed]"
          },
          "metadata": {}
        }
      ],
      "source": [
        "X_train_pred = model.predict(X_train)\n",
        "train_mae_loss = np.mean(np.abs(X_train_pred - X_train), axis=1)\n",
        "\n",
        "plt.hist(train_mae_loss, bins=50)\n",
        "plt.xlabel(\"Train MAE loss\")\n",
        "plt.ylabel(\"Number of samples\")\n",
        "plt.show()"
      ]
    },
    {
      "cell_type": "markdown",
      "metadata": {
        "id": "vldRz2NTFcOt"
      },
      "source": [
        "- train set(정상데이터)의 최대 MAE 손실을 재구성 손실 임계값으로 정합니다."
      ]
    },
    {
      "cell_type": "code",
      "execution_count": 16,
      "metadata": {
        "colab": {
          "base_uri": "https://localhost:8080/"
        },
        "id": "9PopY10BFcOt",
        "outputId": "75574768-f318-4a3c-b109-f7c69ac5e7ad"
      },
      "outputs": [
        {
          "output_type": "stream",
          "name": "stdout",
          "text": [
            "재구성 오류 임계값:  0.14954400300930237\n"
          ]
        }
      ],
      "source": [
        "threshold = np.max(train_mae_loss)\n",
        "print(\"재구성 오류 임계값: \", threshold)"
      ]
    },
    {
      "cell_type": "markdown",
      "metadata": {
        "id": "5JjCyMjcG-2U"
      },
      "source": [
        "### 재구성 비교\n",
        "\n",
        "우리 모델이 첫 번째 샘플을 어떻게 재구성했는지 봅니다.\n",
        "이것은 훈련 데이터 세트 1일차의 288개 timestep 입니다."
      ]
    },
    {
      "cell_type": "code",
      "execution_count": 17,
      "metadata": {
        "colab": {
          "base_uri": "https://localhost:8080/",
          "height": 468
        },
        "id": "07KmbleAG-2U",
        "outputId": "8c111674-2453-4334-921a-9fa63cffe78b"
      },
      "outputs": [
        {
          "output_type": "execute_result",
          "data": {
            "text/plain": [
              "<matplotlib.legend.Legend at 0x7d91d0d27e20>"
            ]
          },
          "metadata": {},
          "execution_count": 17
        },
        {
          "output_type": "display_data",
          "data": {
            "text/plain": [
              "<Figure size 640x480 with 1 Axes>"
            ],
            "image/png": "[encoded data removed]"
          },
          "metadata": {}
        }
      ],
      "source": [
        "# 첫 번째 시퀀스가  어떻게 학습되었는지 확인\n",
        "plt.plot(X_train[0], label='Train set')\n",
        "plt.plot(X_train_pred[0], label='Reconstructed')\n",
        "plt.xlabel(\"Time Step\")\n",
        "plt.legend()"
      ]
    },
    {
      "cell_type": "markdown",
      "metadata": {
        "id": "vmvq-utmG-2U"
      },
      "source": [
        "### 테스트 데이터 준비\n",
        "- Test set(비정상 데이터가 포함)을 standard scale   \n",
        "- 분포가 바뀌면 안되므로 Train set 에서 구해 놓았던 평균과 표준 편차를 그대로 사용\n",
        "- 시각화"
      ]
    },
    {
      "cell_type": "code",
      "execution_count": 19,
      "metadata": {
        "colab": {
          "base_uri": "https://localhost:8080/",
          "height": 343
        },
        "id": "61kCEFrqFcOt",
        "outputId": "12d1b292-8a5a-497e-ae97-65d176866918"
      },
      "outputs": [
        {
          "output_type": "display_data",
          "data": {
            "text/plain": [
              "<Figure size 400x300 with 1 Axes>"
            ],
            "image/png": "[encoded data removed]"
          },
          "metadata": {}
        }
      ],
      "source": [
        "df_test_value = (df_daily_jumpsup - training_mean) / training_std\n",
        "fig, ax = plt.subplots(figsize=(4, 3))\n",
        "df_test_value.plot(legend=False, ax=ax)\n",
        "plt.show()"
      ]
    },
    {
      "cell_type": "markdown",
      "metadata": {
        "id": "rX1_gUlWFcOu"
      },
      "source": [
        "- Test set에서 시계열 시퀀스 data 생성"
      ]
    },
    {
      "cell_type": "code",
      "execution_count": 20,
      "metadata": {
        "colab": {
          "base_uri": "https://localhost:8080/"
        },
        "id": "_lsAVORjFcOu",
        "outputId": "5e02f75e-4782-42c3-e54d-5bc0969112f2"
      },
      "outputs": [
        {
          "output_type": "stream",
          "name": "stdout",
          "text": [
            "Test input shape:  (3745, 288, 1)\n"
          ]
        }
      ],
      "source": [
        "X_test = create_sequences(df_test_value.values)\n",
        "print(\"Test input shape: \", X_test.shape)"
      ]
    },
    {
      "cell_type": "markdown",
      "metadata": {
        "id": "WqtcZOVFFcOu"
      },
      "source": [
        "- Test set(비정상 데이터 포함)의 MAE loss 구하기"
      ]
    },
    {
      "cell_type": "code",
      "execution_count": 22,
      "metadata": {
        "colab": {
          "base_uri": "https://localhost:8080/"
        },
        "id": "JnkvNHobFcOu",
        "outputId": "2ab56146-2aa8-4d7f-e907-63a365a24803"
      },
      "outputs": [
        {
          "output_type": "stream",
          "name": "stdout",
          "text": [
            "118/118 [==============================] - 0s 2ms/step\n"
          ]
        }
      ],
      "source": [
        "X_test_pred = model.predict(X_test)\n",
        "\n",
        "#재구성 오류 계산\n",
        "test_mae_loss = np.mean(np.abs(X_test_pred - X_test), axis=1)\n",
        "test_mae_loss = test_mae_loss.reshape((-1))"
      ]
    },
    {
      "cell_type": "markdown",
      "metadata": {
        "id": "ajdQWuJ1FcOu"
      },
      "source": [
        "- 비정상 포함 데이터의 MAE 손실 시각화"
      ]
    },
    {
      "cell_type": "code",
      "execution_count": 23,
      "metadata": {
        "colab": {
          "base_uri": "https://localhost:8080/",
          "height": 449
        },
        "id": "1Wnh--I2FcOu",
        "outputId": "c862ff08-11c8-4cf8-d3bc-8e2ac9e4ffd6"
      },
      "outputs": [
        {
          "output_type": "display_data",
          "data": {
            "text/plain": [
              "<Figure size 640x480 with 1 Axes>"
            ],
            "image/png": "[encoded data removed]"
          },
          "metadata": {}
        }
      ],
      "source": [
        "plt.hist(test_mae_loss, bins=50)\n",
        "plt.xlabel(\"test MAE loss\")\n",
        "plt.ylabel(\"No of samples\")\n",
        "plt.show()"
      ]
    },
    {
      "cell_type": "markdown",
      "metadata": {
        "id": "nh4UKiWpFcOu"
      },
      "source": [
        "- 모든 이상 샘플 감지  \n",
        "- train set의 최대 MAE 손실에서 구했던 threshold 사용"
      ]
    },
    {
      "cell_type": "code",
      "execution_count": 24,
      "metadata": {
        "colab": {
          "base_uri": "https://localhost:8080/"
        },
        "id": "nRh1iBbqKSG1",
        "outputId": "4638b9e6-cec0-4c49-e359-4e2a2d7d8444"
      },
      "outputs": [
        {
          "output_type": "execute_result",
          "data": {
            "text/plain": [
              "0.14954400300930237"
            ]
          },
          "metadata": {},
          "execution_count": 24
        }
      ],
      "source": [
        "threshold"
      ]
    },
    {
      "cell_type": "code",
      "execution_count": 32,
      "metadata": {
        "colab": {
          "base_uri": "https://localhost:8080/"
        },
        "id": "9A_pMpl8KSG2",
        "outputId": "b5658870-85be-4c21-9bea-9e379bdd7527"
      },
      "outputs": [
        {
          "output_type": "execute_result",
          "data": {
            "text/plain": [
              "array([False, False, False, ..., False, False, False])"
            ]
          },
          "metadata": {},
          "execution_count": 32
        }
      ],
      "source": [
        "# MAE가 정상치를 초과하는 sample들\n",
        "anomalies = test_mae_loss > threshold\n",
        "anomalies"
      ]
    },
    {
      "cell_type": "code",
      "execution_count": 33,
      "metadata": {
        "colab": {
          "base_uri": "https://localhost:8080/"
        },
        "id": "rEWCo-noG-2U",
        "outputId": "e4c4eec1-aac8-4343-ec4e-4c01abed6e21"
      },
      "outputs": [
        {
          "output_type": "stream",
          "name": "stdout",
          "text": [
            "이상 감지된 샘플 수:  393\n",
            "이상 감지된 샘플의 인덱스:  (array([2702, 2703, 2704, 2705, 2706, 2707, 2708, 2709, 2710, 2711, 2712,\n",
            "       2713, 2714, 2715, 2716, 2717, 2718, 2719, 2720, 2721, 2722, 2723,\n",
            "       2724, 2725, 2726, 2727, 2728, 2729, 2730, 2731, 2732, 2733, 2734,\n",
            "       2735, 2736, 2737, 2738, 2739, 2740, 2741, 2742, 2743, 2744, 2745,\n",
            "       2746, 2747, 2748, 2749, 2750, 2751, 2752, 2753, 2754, 2755, 2756,\n",
            "       2757, 2758, 2759, 2760, 2761, 2762, 2763, 2764, 2765, 2766, 2767,\n",
            "       2768, 2769, 2770, 2771, 2772, 2773, 2774, 2775, 2776, 2777, 2778,\n",
            "       2779, 2780, 2781, 2782, 2783, 2784, 2785, 2786, 2787, 2788, 2789,\n",
            "       2790, 2791, 2792, 2793, 2794, 2795, 2796, 2797, 2798, 2799, 2800,\n",
            "       2801, 2802, 2803, 2804, 2805, 2806, 2807, 2808, 2809, 2810, 2811,\n",
            "       2812, 2813, 2814, 2815, 2816, 2817, 2818, 2819, 2820, 2821, 2822,\n",
            "       2823, 2824, 2825, 2826, 2827, 2828, 2829, 2830, 2831, 2832, 2833,\n",
            "       2834, 2835, 2836, 2837, 2838, 2839, 2840, 2841, 2842, 2843, 2844,\n",
            "       2845, 2846, 2847, 2848, 2849, 2850, 2851, 2852, 2853, 2854, 2855,\n",
            "       2856, 2857, 2858, 2859, 2860, 2861, 2862, 2863, 2864, 2865, 2866,\n",
            "       2867, 2868, 2869, 2870, 2871, 2872, 2873, 2874, 2875, 2876, 2877,\n",
            "       2878, 2879, 2880, 2881, 2882, 2883, 2884, 2885, 2886, 2887, 2888,\n",
            "       2889, 2890, 2891, 2892, 2893, 2894, 2895, 2896, 2897, 2898, 2899,\n",
            "       2900, 2901, 2902, 2903, 2904, 2905, 2906, 2907, 2908, 2909, 2910,\n",
            "       2911, 2912, 2913, 2914, 2915, 2916, 2917, 2918, 2919, 2920, 2921,\n",
            "       2922, 2923, 2924, 2925, 2926, 2927, 2928, 2929, 2930, 2931, 2932,\n",
            "       2933, 2934, 2935, 2936, 2937, 2938, 2939, 2940, 2941, 2942, 2943,\n",
            "       2944, 2945, 2946, 2947, 2948, 2949, 2950, 2951, 2952, 2953, 2954,\n",
            "       2955, 2956, 2957, 2958, 2959, 2960, 2961, 2962, 2963, 2964, 2965,\n",
            "       2966, 2967, 2968, 2969, 2970, 2971, 2972, 2973, 2974, 2975, 2976,\n",
            "       2977, 2978, 2979, 2980, 2981, 2982, 2983, 2984, 2985, 2986, 2987,\n",
            "       2988, 2989, 2990, 2991, 2992, 2993, 2994, 2995, 2996, 2997, 2998,\n",
            "       2999, 3000, 3001, 3002, 3003, 3004, 3005, 3006, 3007, 3008, 3009,\n",
            "       3010, 3011, 3012, 3013, 3014, 3015, 3016, 3017, 3018, 3019, 3020,\n",
            "       3021, 3022, 3023, 3024, 3025, 3026, 3027, 3028, 3029, 3030, 3031,\n",
            "       3032, 3033, 3034, 3035, 3036, 3037, 3038, 3039, 3040, 3041, 3042,\n",
            "       3043, 3044, 3045, 3046, 3047, 3048, 3049, 3050, 3051, 3052, 3053,\n",
            "       3054, 3055, 3056, 3057, 3058, 3059, 3060, 3061, 3062, 3063, 3064,\n",
            "       3065, 3066, 3067, 3068, 3069, 3070, 3071, 3072, 3073, 3074, 3075,\n",
            "       3076, 3077, 3078, 3079, 3080, 3081, 3082, 3083, 3084, 3085, 3086,\n",
            "       3087, 3088, 3089, 3090, 3091, 3092, 3093, 3094]),)\n"
          ]
        }
      ],
      "source": [
        "print(\"이상 감지된 샘플 수: \", np.sum(anomalies))\n",
        "print(\"이상 감지된 샘플의 인덱스: \", np.where(anomalies))"
      ]
    },
    {
      "cell_type": "markdown",
      "metadata": {
        "id": "njN6qfVkG-2U"
      },
      "source": [
        "## 이상치 plot\n",
        "\n",
        "이제 우리는 비정상 데이터 샘플을 알고 있습니다. 이를 통해 원본 테스트 데이터에서 해당 `timestamps`를 찾을 수 있습니다. 이를 위해 다음 방법을 사용할 것입니다.\n",
        "\n",
        "time_steps = 3이고 10개의 훈련 값이 있다고 가정해 보겠습니다. 우리의 `X_train`은 다음과 같이 보일 것입니다:\n",
        "\n",
        "- 0, 1, 2\n",
        "- 1, 2, 3\n",
        "- 2, 3, 4\n",
        "- 3, 4, 5\n",
        "- 4, 5, 6\n",
        "- 5, 6, 7\n",
        "- 6, 7, 8\n",
        "- 7, 8, 9\n",
        "\n",
        "초기 및 마지막 time_steps-1 데이터 값을 제외한 모든 값은 `time_steps` 샘플 수로 표시됩니다. 따라서 샘플 [(3, 4, 5), (4, 5, 6), (5, 6, 7)]이 비정상이라는 것을 안다면 데이터 포인트 5가 비정상이라고 말할 수 있습니다.  \n",
        "\n",
        "그러므로 `TIME_STEPS`기간 전체 샘플 `[(i - timesteps + 1) ~ (i)]`이 비정상인 경우 데이터 `i`는 비정상으로 분류할 수 있습니다."
      ]
    },
    {
      "cell_type": "code",
      "execution_count": 27,
      "metadata": {
        "colab": {
          "base_uri": "https://localhost:8080/"
        },
        "id": "B6WSf9HzKSHL",
        "outputId": "ba1840c1-d8ed-44ad-ec67-d727739a9aea"
      },
      "outputs": [
        {
          "output_type": "execute_result",
          "data": {
            "text/plain": [
              "288"
            ]
          },
          "metadata": {},
          "execution_count": 27
        }
      ],
      "source": [
        "TIME_STEPS"
      ]
    },
    {
      "cell_type": "markdown",
      "metadata": {
        "id": "tzjLDH-VKSHN"
      },
      "source": [
        "np.all() 함수는 주어진 배열 내의 모든 요소가 True일 경우에만 True를 반환합니다. 따라서 다음 코드는 범위 내의 모든 요소가 True(이상치)인지를 확인"
      ]
    },
    {
      "cell_type": "code",
      "execution_count": 37,
      "metadata": {
        "colab": {
          "base_uri": "https://localhost:8080/"
        },
        "id": "YYj8CNknFcOv",
        "outputId": "53f702a2-c681-417b-c862-3d0d3ef67518"
      },
      "outputs": [
        {
          "output_type": "execute_result",
          "data": {
            "text/plain": [
              "True"
            ]
          },
          "metadata": {},
          "execution_count": 37
        }
      ],
      "source": [
        "index = 2754\n",
        "#print(anomalies[index: index+TIME_STEPS])\n",
        "# true 이면 index의 sample은 비정상으로 간주\n",
        "np.all(anomalies[index: index+TIME_STEPS])"
      ]
    },
    {
      "cell_type": "markdown",
      "metadata": {
        "id": "whRFf_tEKSHP"
      },
      "source": [
        "- for 루프를 통해 시계열 데이터를 반복합니다. 반복은 TIME_STEPS - 1부터 시작하며, len(df_test_value) - TIME_STEPS + 1에서 끝납니다.  \n",
        "- 각 반복에서, np.all() 함수를 사용하여 anomalies 배열의 연속된 시간 단계가 모두 True인지(즉, 모두 이상치인지) 확인합니다. 이 때 범위는 data_idx - TIME_STEPS + 1에서 data_idx까지입니다.  \n",
        "- 만약 모든 시간 단계가 이상치라면(np.all() 함수의 결과가 True), 해당 시간 단계의 마지막 인덱스 data_idx를 anomalous_data_indices 리스트에 추가합니다."
      ]
    },
    {
      "cell_type": "code",
      "execution_count": 38,
      "metadata": {
        "id": "jN1mMzIpG-2U"
      },
      "outputs": [],
      "source": [
        "anomalous_data_indices = []\n",
        "\n",
        "for data_idx in range(TIME_STEPS - 1, len(df_test_value) - TIME_STEPS + 1):\n",
        "    if np.all(anomalies[data_idx - TIME_STEPS + 1 : data_idx]):\n",
        "        anomalous_data_indices.append(data_idx)"
      ]
    },
    {
      "cell_type": "code",
      "execution_count": 40,
      "metadata": {
        "colab": {
          "base_uri": "https://localhost:8080/",
          "height": 256
        },
        "id": "dMzybluHKSHQ",
        "outputId": "d19564a4-b202-4451-e8f5-9d1d05d2f954"
      },
      "outputs": [
        {
          "output_type": "stream",
          "name": "stdout",
          "text": [
            "(107, 1)\n"
          ]
        },
        {
          "output_type": "execute_result",
          "data": {
            "text/plain": [
              "                          value\n",
              "timestamp                      \n",
              "2014-04-11 09:05:00  115.705719\n",
              "2014-04-11 09:10:00  122.386410\n",
              "2014-04-11 09:15:00  127.261178\n",
              "2014-04-11 09:20:00  121.157997\n",
              "2014-04-11 09:25:00  120.468468"
            ],
            "text/html": [
              "\n",
              "  <div id=\"df-7559fa4e-2d95-44a4-bb80-193d9c2448e7\" class=\"colab-df-container\">\n",
              "    <div>\n",
              "<style scoped>\n",
              "    .dataframe tbody tr th:only-of-type {\n",
              "        vertical-align: middle;\n",
              "    }\n",
              "\n",
              "    .dataframe tbody tr th {\n",
              "        vertical-align: top;\n",
              "    }\n",
              "\n",
              "    .dataframe thead th {\n",
              "        text-align: right;\n",
              "    }\n",
              "</style>\n",
              "<table border=\"1\" class=\"dataframe\">\n",
              "  <thead>\n",
              "    <tr style=\"text-align: right;\">\n",
              "      <th></th>\n",
              "      <th>value</th>\n",
              "    </tr>\n",
              "    <tr>\n",
              "      <th>timestamp</th>\n",
              "      <th></th>\n",
              "    </tr>\n",
              "  </thead>\n",
              "  <tbody>\n",
              "    <tr>\n",
              "      <th>2014-04-11 09:05:00</th>\n",
              "      <td>115.705719</td>\n",
              "    </tr>\n",
              "    <tr>\n",
              "      <th>2014-04-11 09:10:00</th>\n",
              "      <td>122.386410</td>\n",
              "    </tr>\n",
              "    <tr>\n",
              "      <th>2014-04-11 09:15:00</th>\n",
              "      <td>127.261178</td>\n",
              "    </tr>\n",
              "    <tr>\n",
              "      <th>2014-04-11 09:20:00</th>\n",
              "      <td>121.157997</td>\n",
              "    </tr>\n",
              "    <tr>\n",
              "      <th>2014-04-11 09:25:00</th>\n",
              "      <td>120.468468</td>\n",
              "    </tr>\n",
              "  </tbody>\n",
              "</table>\n",
              "</div>\n",
              "    <div class=\"colab-df-buttons\">\n",
              "\n",
              "  <div class=\"colab-df-container\">\n",
              "    <button class=\"colab-df-convert\" onclick=\"convertToInteractive('df-7559fa4e-2d95-44a4-bb80-193d9c2448e7')\"\n",
              "            title=\"Convert this dataframe to an interactive table.\"\n",
              "            style=\"display:none;\">\n",
              "\n",
              "  <svg xmlns=\"http://www.w3.org/2000/svg\" height=\"24px\" viewBox=\"0 -960 960 960\">\n",
              "    <path d=\"M120-120v-720h720v720H120Zm60-500h600v-160H180v160Zm220 220h160v-160H400v160Zm0 220h160v-160H400v160ZM180-400h160v-160H180v160Zm440 0h160v-160H620v160ZM180-180h160v-160H180v160Zm440 0h160v-160H620v160Z\"/>\n",
              "  </svg>\n",
              "    </button>\n",
              "\n",
              "  <style>\n",
              "    .colab-df-container {\n",
              "      display:flex;\n",
              "      gap: 12px;\n",
              "    }\n",
              "\n",
              "    .colab-df-convert {\n",
              "      background-color: #E8F0FE;\n",
              "      border: none;\n",
              "      border-radius: 50%;\n",
              "      cursor: pointer;\n",
              "      display: none;\n",
              "      fill: #1967D2;\n",
              "      height: 32px;\n",
              "      padding: 0 0 0 0;\n",
              "      width: 32px;\n",
              "    }\n",
              "\n",
              "    .colab-df-convert:hover {\n",
              "      background-color: #E2EBFA;\n",
              "      box-shadow: 0px 1px 2px rgba(60, 64, 67, 0.3), 0px 1px 3px 1px rgba(60, 64, 67, 0.15);\n",
              "      fill: #174EA6;\n",
              "    }\n",
              "\n",
              "    .colab-df-buttons div {\n",
              "      margin-bottom: 4px;\n",
              "    }\n",
              "\n",
              "    [theme=dark] .colab-df-convert {\n",
              "      background-color: #3B4455;\n",
              "      fill: #D2E3FC;\n",
              "    }\n",
              "\n",
              "    [theme=dark] .colab-df-convert:hover {\n",
              "      background-color: #434B5C;\n",
              "      box-shadow: 0px 1px 3px 1px rgba(0, 0, 0, 0.15);\n",
              "      filter: drop-shadow(0px 1px 2px rgba(0, 0, 0, 0.3));\n",
              "      fill: #FFFFFF;\n",
              "    }\n",
              "  </style>\n",
              "\n",
              "    <script>\n",
              "      const buttonEl =\n",
              "        document.querySelector('#df-7559fa4e-2d95-44a4-bb80-193d9c2448e7 button.colab-df-convert');\n",
              "      buttonEl.style.display =\n",
              "        google.colab.kernel.accessAllowed ? 'block' : 'none';\n",
              "\n",
              "      async function convertToInteractive(key) {\n",
              "        const element = document.querySelector('#df-7559fa4e-2d95-44a4-bb80-193d9c2448e7');\n",
              "        const dataTable =\n",
              "          await google.colab.kernel.invokeFunction('convertToInteractive',\n",
              "                                                    [key], {});\n",
              "        if (!dataTable) return;\n",
              "\n",
              "        const docLinkHtml = 'Like what you see? Visit the ' +\n",
              "          '<a target=\"_blank\" href=https://colab.research.google.com/notebooks/data_table.ipynb>data table notebook</a>'\n",
              "          + ' to learn more about interactive tables.';\n",
              "        element.innerHTML = '';\n",
              "        dataTable['output_type'] = 'display_data';\n",
              "        await google.colab.output.renderOutput(dataTable, element);\n",
              "        const docLink = document.createElement('div');\n",
              "        docLink.innerHTML = docLinkHtml;\n",
              "        element.appendChild(docLink);\n",
              "      }\n",
              "    </script>\n",
              "  </div>\n",
              "\n",
              "\n",
              "<div id=\"df-bbd67d13-d119-4b75-b441-cba63a82efd8\">\n",
              "  <button class=\"colab-df-quickchart\" onclick=\"quickchart('df-bbd67d13-d119-4b75-b441-cba63a82efd8')\"\n",
              "            title=\"Suggest charts\"\n",
              "            style=\"display:none;\">\n",
              "\n",
              "<svg xmlns=\"http://www.w3.org/2000/svg\" height=\"24px\"viewBox=\"0 0 24 24\"\n",
              "     width=\"24px\">\n",
              "    <g>\n",
              "        <path d=\"M19 3H5c-1.1 0-2 .9-2 2v14c0 1.1.9 2 2 2h14c1.1 0 2-.9 2-2V5c0-1.1-.9-2-2-2zM9 17H7v-7h2v7zm4 0h-2V7h2v10zm4 0h-2v-4h2v4z\"/>\n",
              "    </g>\n",
              "</svg>\n",
              "  </button>\n",
              "\n",
              "<style>\n",
              "  .colab-df-quickchart {\n",
              "      --bg-color: #E8F0FE;\n",
              "      --fill-color: #1967D2;\n",
              "      --hover-bg-color: #E2EBFA;\n",
              "      --hover-fill-color: #174EA6;\n",
              "      --disabled-fill-color: #AAA;\n",
              "      --disabled-bg-color: #DDD;\n",
              "  }\n",
              "\n",
              "  [theme=dark] .colab-df-quickchart {\n",
              "      --bg-color: #3B4455;\n",
              "      --fill-color: #D2E3FC;\n",
              "      --hover-bg-color: #434B5C;\n",
              "      --hover-fill-color: #FFFFFF;\n",
              "      --disabled-bg-color: #3B4455;\n",
              "      --disabled-fill-color: #666;\n",
              "  }\n",
              "\n",
              "  .colab-df-quickchart {\n",
              "    background-color: var(--bg-color);\n",
              "    border: none;\n",
              "    border-radius: 50%;\n",
              "    cursor: pointer;\n",
              "    display: none;\n",
              "    fill: var(--fill-color);\n",
              "    height: 32px;\n",
              "    padding: 0;\n",
              "    width: 32px;\n",
              "  }\n",
              "\n",
              "  .colab-df-quickchart:hover {\n",
              "    background-color: var(--hover-bg-color);\n",
              "    box-shadow: 0 1px 2px rgba(60, 64, 67, 0.3), 0 1px 3px 1px rgba(60, 64, 67, 0.15);\n",
              "    fill: var(--button-hover-fill-color);\n",
              "  }\n",
              "\n",
              "  .colab-df-quickchart-complete:disabled,\n",
              "  .colab-df-quickchart-complete:disabled:hover {\n",
              "    background-color: var(--disabled-bg-color);\n",
              "    fill: var(--disabled-fill-color);\n",
              "    box-shadow: none;\n",
              "  }\n",
              "\n",
              "  .colab-df-spinner {\n",
              "    border: 2px solid var(--fill-color);\n",
              "    border-color: transparent;\n",
              "    border-bottom-color: var(--fill-color);\n",
              "    animation:\n",
              "      spin 1s steps(1) infinite;\n",
              "  }\n",
              "\n",
              "  @keyframes spin {\n",
              "    0% {\n",
              "      border-color: transparent;\n",
              "      border-bottom-color: var(--fill-color);\n",
              "      border-left-color: var(--fill-color);\n",
              "    }\n",
              "    20% {\n",
              "      border-color: transparent;\n",
              "      border-left-color: var(--fill-color);\n",
              "      border-top-color: var(--fill-color);\n",
              "    }\n",
              "    30% {\n",
              "      border-color: transparent;\n",
              "      border-left-color: var(--fill-color);\n",
              "      border-top-color: var(--fill-color);\n",
              "      border-right-color: var(--fill-color);\n",
              "    }\n",
              "    40% {\n",
              "      border-color: transparent;\n",
              "      border-right-color: var(--fill-color);\n",
              "      border-top-color: var(--fill-color);\n",
              "    }\n",
              "    60% {\n",
              "      border-color: transparent;\n",
              "      border-right-color: var(--fill-color);\n",
              "    }\n",
              "    80% {\n",
              "      border-color: transparent;\n",
              "      border-right-color: var(--fill-color);\n",
              "      border-bottom-color: var(--fill-color);\n",
              "    }\n",
              "    90% {\n",
              "      border-color: transparent;\n",
              "      border-bottom-color: var(--fill-color);\n",
              "    }\n",
              "  }\n",
              "</style>\n",
              "\n",
              "  <script>\n",
              "    async function quickchart(key) {\n",
              "      const quickchartButtonEl =\n",
              "        document.querySelector('#' + key + ' button');\n",
              "      quickchartButtonEl.disabled = true;  // To prevent multiple clicks.\n",
              "      quickchartButtonEl.classList.add('colab-df-spinner');\n",
              "      try {\n",
              "        const charts = await google.colab.kernel.invokeFunction(\n",
              "            'suggestCharts', [key], {});\n",
              "      } catch (error) {\n",
              "        console.error('Error during call to suggestCharts:', error);\n",
              "      }\n",
              "      quickchartButtonEl.classList.remove('colab-df-spinner');\n",
              "      quickchartButtonEl.classList.add('colab-df-quickchart-complete');\n",
              "    }\n",
              "    (() => {\n",
              "      let quickchartButtonEl =\n",
              "        document.querySelector('#df-bbd67d13-d119-4b75-b441-cba63a82efd8 button');\n",
              "      quickchartButtonEl.style.display =\n",
              "        google.colab.kernel.accessAllowed ? 'block' : 'none';\n",
              "    })();\n",
              "  </script>\n",
              "</div>\n",
              "\n",
              "    </div>\n",
              "  </div>\n"
            ]
          },
          "metadata": {},
          "execution_count": 40
        }
      ],
      "source": [
        "df_subset = df_daily_jumpsup.iloc[anomalous_data_indices]\n",
        "print(df_subset.shape)\n",
        "df_subset.head()"
      ]
    },
    {
      "cell_type": "markdown",
      "metadata": {
        "id": "7GYr7_0SG-2U"
      },
      "source": [
        "원본 테스트 데이터 플롯에 모델이 탐지한 이상치를 오버레이해 시각화"
      ]
    },
    {
      "cell_type": "code",
      "execution_count": 43,
      "metadata": {
        "colab": {
          "base_uri": "https://localhost:8080/",
          "height": 343
        },
        "id": "GHqctxa6G-2U",
        "outputId": "839b99ca-27ec-473c-cafd-74d7b41df812"
      },
      "outputs": [
        {
          "output_type": "display_data",
          "data": {
            "text/plain": [
              "<Figure size 400x300 with 1 Axes>"
            ],
            "image/png": "[encoded data removed]"
          },
          "metadata": {}
        }
      ],
      "source": [
        "fig, ax = plt.subplots(figsize=(4, 3))\n",
        "\n",
        "# 'df_daily_jumpsup' 데이터프레임을 그래프에 플롯합니다. 범례는 표시하지 않습니다.\n",
        "df_daily_jumpsup.plot(legend=False, ax=ax)\n",
        "\n",
        "# 'df_subset' 데이터프레임을 그래프에 플롯합니다. 이 데이터는 빨간색으로 표시하며, 범례도 표시하지 않습니다.\n",
        "df_subset.plot(legend=False, ax=ax, color=\"r\")\n",
        "\n",
        "plt.show()"
      ]
    },
    {
      "cell_type": "code",
      "execution_count": null,
      "metadata": {
        "id": "tLLRabzWFcOv"
      },
      "outputs": [],
      "source": []
    }
  ],
  "metadata": {
    "accelerator": "GPU",
    "colab": {
      "machine_shape": "hm",
      "provenance": []
    },
    "gpuClass": "standard",
    "kernelspec": {
      "display_name": "Python 3 (ipykernel)",
      "language": "python",
      "name": "python3"
    },
    "language_info": {
      "codemirror_mode": {
        "name": "ipython",
        "version": 3
      },
      "file_extension": ".py",
      "mimetype": "text/x-python",
      "name": "python",
      "nbconvert_exporter": "python",
      "pygments_lexer": "ipython3",
      "version": "3.9.16"
    }
  },
  "nbformat": 4,
  "nbformat_minor": 0
}