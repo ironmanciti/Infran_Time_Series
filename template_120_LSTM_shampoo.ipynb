{
 "cells": [
  {
   "cell_type": "markdown",
   "id": "eda47c0e",
   "metadata": {
    "id": "eda47c0e"
   },
   "source": [
    "# Time Series LSTM model \n",
    "\n",
    "- Differencing 으로 Trend 제거  \n",
    "- train / test split\n",
    "- feature scaling  \n",
    "- supervised learning dataset 생성  \n",
    "- inverse transform  \n",
    "- 예측한 difference 를 원래의 시계열로 환원  \n",
    "- 시각화"
   ]
  },
  {
   "cell_type": "markdown",
   "id": "e1153867",
   "metadata": {},
   "source": [
    "- dataset 의 Month column 을 datetime 으로 변환\n",
    "\n",
    "date_parser : 문자열 열의 시퀀스를 datetime 인스턴스의 배열로 변환하는 데 사용할 함수 지정"
   ]
  },
  {
   "cell_type": "markdown",
   "id": "c8a4143a",
   "metadata": {
    "id": "c8a4143a"
   },
   "source": [
    "- trend 를 제거하여 stationary 한 시계열 생성. model 은 difference를 학습."
   ]
  },
  {
   "cell_type": "markdown",
   "id": "fcb62bb3",
   "metadata": {},
   "source": [
    "### train/test split\n",
    "- train : 23 개월\n",
    "- test : 12 개월"
   ]
  },
  {
   "cell_type": "markdown",
   "id": "10ff2f54",
   "metadata": {},
   "source": [
    "### feature scaling"
   ]
  },
  {
   "cell_type": "markdown",
   "id": "67423a40",
   "metadata": {},
   "source": [
    "## Supervised Learning dataset 작성"
   ]
  },
  {
   "cell_type": "markdown",
   "id": "a7c08c6e",
   "metadata": {
    "id": "a7c08c6e"
   },
   "source": [
    "- model 생성"
   ]
  },
  {
   "cell_type": "markdown",
   "id": "cddccd94",
   "metadata": {},
   "source": [
    "- denormalize"
   ]
  },
  {
   "cell_type": "markdown",
   "id": "6ca7959c",
   "metadata": {},
   "source": [
    "- model 은 difference를 예측하도록 학습하였으므로, 원래의 시계열로 변환 \n",
    "- 당일 value = 전일 value + difference(y_hat) 이므로,  \n",
    "  `prediction = series[-len(yhat)-1:-1] + yhat`  \n",
    "  `true_vales = series[-len(yhat):]`"
   ]
  },
  {
   "cell_type": "markdown",
   "id": "31e2f316-72a3-4037-9b59-6b96dc6c6448",
   "metadata": {},
   "source": [
    "- 모델은 데이터의 변화량(차이)을 예측하도록 훈련되었습니다. 따라서, 예측 결과를 원래 시계열 데이터의 형태로 되돌려야 합니다.\r\n",
    "- 하루의 값은 전날의 값에 그 날의 변화량(예측값 `yhat`)을 더한 것과 같습니다. 이를 통해 예측 시퀀스를 다음과 같이 계산할 수 있습니다:\r\n",
    "  - `prediction = series[-len(yhat)-1:-1] + yhat`: 이 코드는 예측값 `yhat`을 사용하여 원래 시계열의 마지막 부분에 변화량을 더해 새로운 예측값을 생성합니다. 여기서 `series[-len(yhat)-1:-1]`는 예측 기간 바로 이전의 실제 데이터 포인트를 나타냅니다.\r\n",
    "  - `true_values = series[-len(yhat):]`: 이 코드는 예측 기간 동안의 실제 값을 가져옵니다. 이 값들은 모델의 예측 성능을 평가하는 데 사용됩니다."
   ]
  }
 ],
 "metadata": {
  "accelerator": "GPU",
  "colab": {
   "name": "045. LSTM shampoo.ipynb",
   "provenance": []
  },
  "kernelspec": {
   "display_name": "Python 3 (ipykernel)",
   "language": "python",
   "name": "python3"
  },
  "language_info": {
   "codemirror_mode": {
    "name": "ipython",
    "version": 3
   },
   "file_extension": ".py",
   "mimetype": "text/x-python",
   "name": "python",
   "nbconvert_exporter": "python",
   "pygments_lexer": "ipython3",
   "version": "3.9.16"
  }
 },
 "nbformat": 4,
 "nbformat_minor": 5
}
