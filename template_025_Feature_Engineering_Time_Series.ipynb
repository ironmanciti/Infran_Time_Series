{
 "cells": [
  {
   "cell_type": "markdown",
   "id": "decreased-delight",
   "metadata": {
    "id": "decreased-delight"
   },
   "source": [
    "# Time Series의 Feature Engineering"
   ]
  },
  {
   "cell_type": "markdown",
   "id": "a075009a",
   "metadata": {},
   "source": [
    "DataFrame 객체에 'date' 열을 추가하고, 그 안에 datetime 객체들을 넣어 2021년 12월 1일부터 12월 5일까지의 날짜를 생성합니다.\n",
    "DataFrame 객체에 'birth' 열을 추가하고, 해당 날짜에 대한 출생 수를 기록합니다."
   ]
  },
  {
   "cell_type": "markdown",
   "id": "neutral-socket",
   "metadata": {
    "id": "neutral-socket"
   },
   "source": [
    "## date time feature  \n",
    "\n",
    "주어진 코드는 데이터 프레임에 날짜 관련 여러 특성을 추가합니다. 다음과 같은 작업을 수행합니다:\n",
    "\n",
    "- 원본 데이터 프레임(df)을 복사하여 새로운 데이터 프레임(features)을 생성합니다.\n",
    "- 'date' 열의 datetime 객체로부터 연도 정보를 추출하여 'year' 열을 생성합니다.\n",
    "- 'date' 열의 datetime 객체로부터 월 정보를 추출하여 'month' 열을 생성합니다.\n",
    "- 'date' 열의 datetime 객체로부터 일 정보를 추출하여 'day' 열을 생성합니다."
   ]
  },
  {
   "cell_type": "markdown",
   "id": "effective-confidence",
   "metadata": {
    "id": "effective-confidence"
   },
   "source": [
    "## Lag features (지연 특성)\n",
    "\n",
    "주어진 코드는 데이터 프레임에 lag features를 추가합니다. 다음과 같은 작업을 수행합니다:\n",
    "\n",
    "- 'birth' 열의 데이터를 1칸 앞으로 이동시킨 후, 'lag1' 열에 할당합니다.\n",
    "- 'birth' 열의 데이터를 3칸 앞으로 이동시킨 후, 'lag2' 열에 할당합니다."
   ]
  },
  {
   "cell_type": "markdown",
   "id": "hollow-distinction",
   "metadata": {
    "id": "hollow-distinction"
   },
   "source": [
    "## Window features\n",
    "\n",
    "### Rolling Window vs. Expanding Window (이동 창과 확장 창)  \n",
    "\r",
    "이동 창과 확장 창은 데이터를 다루는 방식에 차이가 있습니다.  \n",
    "\n",
    "\r\n",
    "100일 동안의 데이터를 예로 들면:\r\n",
    "\r\n",
    "이동 창에서는 창의 크기가 계속 같습니다. 예를 들어 창 크기를 10일로 설정하면, 처음 예측은 1일부터 10일까지의 데이터를 가지고 11일차의 데이터를 예측합니다. 그 다음 예측은 2일부터 11일까지의 데이터를 사용하여 12일차를 예측합니다. 이렇게 창은 항상 10일치 데이터를 유지하며, 시간이 지남에 따라 이동합니다.\r\n",
    "\r\n",
    "반면에 확장 창에서는 창의 크기가 점차 커집니다. 첫 번째 예측은 처음 10일의 데이터를 사용합니다. 그리고 두 번째 예측에서는 10일치 데이터에 하루가 추가되어 총 11일치 데이터를 사용합니다. 이런 식으로 예측할 때마다 하루씩 데이터가 더해져 창의 크기가 점점 확장됩니다."
   ]
  },
  {
   "cell_type": "markdown",
   "id": "a16a1215",
   "metadata": {},
   "source": [
    "- 'birth' 열의 데이터에 대해 크기가 2인 이동 평균(rolling mean)을 계산하고, 'Roll_mean' 열에 할당합니다.\n",
    "- 'birth' 열의 데이터에 대해 크기가 3인 이동 최대값(rolling max)을 계산하고, 'Roll_max' 열에 할당합니다."
   ]
  },
  {
   "cell_type": "markdown",
   "id": "a968a2bb",
   "metadata": {},
   "source": [
    "'birth' 열의 데이터에 대해 expanding window를 생성하는 방법을 보여줍니다. min_periods 매개변수를 사용하면, 윈도우에서 집계를 시작하는 데 필요한 최소한의 이전 날짜를 설정할 수 있습니다"
   ]
  },
  {
   "cell_type": "markdown",
   "id": "76742ff3",
   "metadata": {},
   "source": [
    "'birth' 열의 데이터에 대해 expanding window의 최대값을 계산하고, 이를 features 데이터 프레임에 'Expand_max' 열로 추가합니다. "
   ]
  },
  {
   "cell_type": "markdown",
   "id": "45869b27",
   "metadata": {
    "id": "45869b27"
   },
   "source": [
    "## Downsampling and Upsampling\n",
    "\n",
    "시계열 데이터를 다룰 때, 우리가 수집한 데이터는 종종 불규칙한 간격으로 기록됩니다. 이런 데이터를 분석하기 위해서는 데이터의 간격을 균일하게 조정하는 과정이 필요합니다. 이를 위해 사용하는 두 가지 기법이 '업샘플링'과 '다운샘플링'입니다.\r\n",
    "\r\n",
    "1. 다운샘플링 (데이터 빈도 줄이기):\r\n",
    "   - 데이터가 너무 자주 기록되어 실제로 필요한 것보다 많은 경우, 예를 들어 매 초마다 기록된 데이터를 매 분마다로 줄이는 것입니다.\r\n",
    "   - 특정 기간의 트렌드를 더 잘 보기 위해 데이터 포인트의 수를 줄이고 싶을 때 사용합니다.\r\n",
    "   - 다른 데이터 세트와 일치시키기 위해, 예를 들어 분 단위 데이터를 시간 단위로 변경하는 것도 포함됩니다.\r\n",
    "\r\n",
    "2. 업샘플링 (더 자세한 데이터 얻기):\r\n",
    "   - 기존 데이터 사이에 새로운 데이터 포인트를 추가하여 시간 간격을 더 세밀하게 만들고 싶을 때 사용합니다.\r\n",
    "   - 예를 들어, 5분 간격의 데이터를 1분 간격의 데이터로 만들어 더 많은 정보를 얻을 수 있습니다.\r\n",
    "   - 불규칙한 시계열을 균일한 간격으로 만들거나, 여러 데이터 세트를 같은 빈도로 맞춰야 할 때 유용합니다.\r\n",
    "\r\n",
    "간단히 말해서, 다운샘플링은 데이터를 '희석'시키는 과정이고, 업샘플링은 데이터를 '집중'시키는 과정입니다. 이를 통해 분석하고자 하는 주기에 맞게 데이터의 간격을 조정할 수 있습니다."
   ]
  },
  {
   "cell_type": "markdown",
   "id": "2ee1aa84",
   "metadata": {},
   "source": [
    "샘플링을 위한 테스트 데이터를 생성합니다.  \n",
    "pd.date_range 함수를 사용하여 2015년 2월 24일부터 시작하는 시간 인덱스를 생성하고, 분단위로 10개의 기간을 생성합니다(freq='T'는 minutely frequency를 의미합니다).  \n",
    "생성된 시간 인덱스를 기반으로 한 데이터 프레임을 생성하고, 임의의 난수 값으로 구성된 'Val' 열을 추가합니다."
   ]
  },
  {
   "cell_type": "markdown",
   "id": "a766a29f",
   "metadata": {
    "id": "a766a29f"
   },
   "source": [
    "### Downsampling\n",
    "\n",
    "pd.date_range(start, end, periods, freq)  \n",
    "[frequency alias](https://pandas.pydata.org/pandas-docs/stable/user_guide/timeseries.html#offset-aliases) 참조"
   ]
  },
  {
   "cell_type": "markdown",
   "id": "970e8e18",
   "metadata": {},
   "source": [
    "pd.date_range 함수를 사용하여 2000년 1월 1일부터 시작하는 시간 인덱스를 생성하고, 분단위로 9개의 기간을 생성합니다(freq='T'는 minutely frequency를 의미합니다).  \n",
    "생성된 시간 인덱스와 범위(range)에서 0부터 8까지의 정수로 구성된 pandas 시리즈(series)를 생성합니다."
   ]
  },
  {
   "cell_type": "markdown",
   "id": "70b05539",
   "metadata": {},
   "source": [
    "주어진 시리즈를 3분 간격으로 리샘플링하고, 각 그룹에 대해 합계를 계산합니다."
   ]
  },
  {
   "cell_type": "markdown",
   "id": "c350571a",
   "metadata": {
    "id": "bRXfIl17JnBJ"
   },
   "source": [
    "### Upsampling"
   ]
  },
  {
   "cell_type": "markdown",
   "id": "4a1d5160",
   "metadata": {},
   "source": [
    "pd.date_range 함수를 사용하여 2019년 12월 31일부터 시작하는 시간 인덱스를 생성하고, 5초 간격으로 3개의 기간을 생성합니다(freq='5S'는 5-second frequency를 의미합니다).  \n",
    "NumPy를 사용하여 0, 1, 3, 2, 10, 3의 값을 갖는 3x2 배열을 생성합니다.  \n",
    "생성된 시간 인덱스와 배열을 사용하여 pandas 데이터 프레임을 생성하고, 열 이름으로 'col_1'과 'col_2'를 지정합니다."
   ]
  },
  {
   "cell_type": "markdown",
   "id": "f79b8ec2",
   "metadata": {},
   "source": [
    "선형 보간(linear interpolation)은 두 점 사이의 값을 추정하기 위해 선형 방정식을 사용하는 방법입니다. 시간 인덱스 사이에 누락된 값이 있는 경우, 선형 보간을 사용하여 누락된 값을 채울 수 있습니다.\n",
    "\n",
    "[선형보간법](https://ko.wikipedia.org/wiki/%EC%84%A0%ED%98%95_%EB%B3%B4%EA%B0%84%EB%B2%95)"
   ]
  }
 ],
 "metadata": {
  "colab": {
   "name": "020. Feature_Engineering_Time_Series.ipynb",
   "provenance": []
  },
  "kernelspec": {
   "display_name": "Python 3 (ipykernel)",
   "language": "python",
   "name": "python3"
  },
  "language_info": {
   "codemirror_mode": {
    "name": "ipython",
    "version": 3
   },
   "file_extension": ".py",
   "mimetype": "text/x-python",
   "name": "python",
   "nbconvert_exporter": "python",
   "pygments_lexer": "ipython3",
   "version": "3.9.16"
  }
 },
 "nbformat": 4,
 "nbformat_minor": 5
}
