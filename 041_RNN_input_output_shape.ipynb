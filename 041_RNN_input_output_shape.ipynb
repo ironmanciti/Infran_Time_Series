{
 "cells": [
  {
   "cell_type": "markdown",
   "metadata": {
    "id": "UFm4zEmdF3HZ"
   },
   "source": [
    "# SimpleRNN / LSTM input/output shape\n",
    "\n",
    "- return_sequences = False, True 일 때의 output 비교\n",
    "\n",
    "- Bidirectional LSTM 의 output 비교"
   ]
  },
  {
   "cell_type": "code",
   "execution_count": 1,
   "metadata": {
    "colab": {
     "base_uri": "https://localhost:8080/"
    },
    "id": "Z5bhMKuKF3Hd",
    "outputId": "9baac3ca-e844-40c7-f154-1b8985685cc4"
   },
   "outputs": [
    {
     "name": "stdout",
     "output_type": "stream",
     "text": [
      "(4, 30, 1)\n"
     ]
    }
   ],
   "source": [
    "from tensorflow.keras.models import Model, Sequential\n",
    "from tensorflow.keras.layers import Input, SimpleRNN, LSTM, Lambda, Dense, Bidirectional\n",
    "import tensorflow as tf\n",
    "import numpy as np\n",
    "import warnings\n",
    "warnings.filterwarnings('ignore')\n",
    "\n",
    "B = 4   # batch size\n",
    "T = 30   #Time Steps\n",
    "D = 1   #features\n",
    "U = 3   #LSTM units\n",
    "\n",
    "X = np.random.randn(B, T, D)\n",
    "print(X.shape)"
   ]
  },
  {
   "cell_type": "markdown",
   "metadata": {},
   "source": [
    "## SimpleRNN\n",
    "\n",
    "## return_sequences\n",
    "\n",
    "- False (default) - last time step 의 output 만 반환\n",
    "- True - 모든 timestep 의 output 을 모두 반환  \n",
    "\n",
    "<img src=\"rnn_output2.png\" width=400 />\n",
    "<img src=\"rnn_output1.png\" width=500 />"
   ]
  },
  {
   "cell_type": "markdown",
   "metadata": {},
   "source": [
    "simple_RNN 함수는 Keras를 사용하여 RNN 모델을 만들고 예측을 수행합니다. return_sequences가 False로 설정된 경우 (기본값), RNN은 시퀀스의 마지막 시간 단계에서만 출력을 반환하며, True로 설정된 경우 모든 시간 단계에 대한 출력을 반환합니다.  \n",
    "\n",
    "함수는 T 시간 단계와 D 입력 차원을 가진 입력을 기대합니다.  \n",
    "SimpleRNN 계층은 U개의 숨겨진 유닛을 사용하며, return_sequences 인수를 통해 출력 형태를 결정합니다.  \n",
    "Model 객체는 입력과 출력을 정의하여 모델을 생성합니다.  \n",
    "model.predict(X)를 사용하여 입력 데이터 X에 대한 모델의 예측을 반환합니다."
   ]
  },
  {
   "cell_type": "code",
   "execution_count": 2,
   "metadata": {
    "scrolled": true
   },
   "outputs": [
    {
     "name": "stdout",
     "output_type": "stream",
     "text": [
      "---- return_sequences=False ----> last timestep 의 output 만 반환\n",
      "1/1 [==============================] - 0s 180ms/step\n",
      "(4, 3)\n",
      "\n",
      "---- return_sequences=True ----> 모든 timestep 별 output 출력\n",
      "1/1 [==============================] - 0s 81ms/step\n",
      "(4, 30, 3)\n"
     ]
    }
   ],
   "source": [
    "def simple_RNN(return_sequences=False):\n",
    "    inp = Input(shape=(T, D)) \n",
    "    out = SimpleRNN(U, return_sequences=return_sequences)(inp)\n",
    "    \n",
    "    model = Model(inputs=inp, outputs=out)\n",
    "    return model.predict(X)\n",
    "\n",
    "print(\"---- return_sequences=False ----> last timestep 의 output 만 반환\")\n",
    "lstm_out = simple_RNN(return_sequences=False)\n",
    "print(lstm_out.shape)\n",
    "# print(lstm_out)\n",
    "\n",
    "print(\"\\n---- return_sequences=True ----> 모든 timestep 별 output 출력\")\n",
    "lstm_out = simple_RNN(return_sequences=True)\n",
    "print(lstm_out.shape)\n",
    "# print(lstm_out)"
   ]
  },
  {
   "cell_type": "markdown",
   "metadata": {
    "id": "93BtygLbF3Hg"
   },
   "source": [
    "## LSTM\n",
    "\n",
    "## return_sequences\n",
    "\n",
    "- False (default) - last time step 의 output 만 반환\n",
    "- True - 모든 timestep 의 output 을 모두 반환\n",
    "\n",
    "lstm 함수는 Keras를 사용하여 LSTM 모델을 만들고 예측을 수행합니다. return_sequences가 False로 설정된 경우 (기본값), LSTM은 시퀀스의 마지막 시간 단계에서만 출력을 반환하며, True로 설정된 경우 모든 시간 단계에 대한 출력을 반환합니다.\n",
    "\n",
    "함수는 T 시간 단계와 D 입력 차원을 가진 입력을 기대합니다.  \n",
    "LSTM 계층은 U개의 숨겨진 유닛을 사용하며, return_sequences 인수를 통해 출력 형태를 결정합니다.  "
   ]
  },
  {
   "cell_type": "code",
   "execution_count": 3,
   "metadata": {
    "colab": {
     "base_uri": "https://localhost:8080/"
    },
    "id": "BUOMaX3mF3Hg",
    "outputId": "fcb2cb63-9d0d-45d2-990c-e372b4f0cb3a"
   },
   "outputs": [
    {
     "name": "stdout",
     "output_type": "stream",
     "text": [
      "---- return_sequences=False ----> last timestep 의 output 만 반환\n",
      "1/1 [==============================] - 0s 254ms/step\n",
      "(4, 3)\n",
      "\n",
      "---- return_sequences=True ----> 모든 timestep 별 output 출력\n",
      "1/1 [==============================] - 0s 232ms/step\n",
      "(4, 30, 3)\n"
     ]
    }
   ],
   "source": [
    "def lstm(return_sequences=False):\n",
    "    inp = Input(shape=(T, D)) \n",
    "    out = LSTM(U, return_sequences=return_sequences)(inp)\n",
    "    \n",
    "    model = Model(inputs=inp, outputs=out)\n",
    "    return model.predict(X)\n",
    "\n",
    "print(\"---- return_sequences=False ----> last timestep 의 output 만 반환\")\n",
    "lstm_out = lstm(return_sequences=False)\n",
    "print(lstm_out.shape)\n",
    "# print(lstm_out)\n",
    "\n",
    "print(\"\\n---- return_sequences=True ----> 모든 timestep 별 output 출력\")\n",
    "lstm_out = lstm(return_sequences=True)\n",
    "print(lstm_out.shape)\n",
    "# print(lstm_out)"
   ]
  },
  {
   "cell_type": "markdown",
   "metadata": {},
   "source": [
    "## Bidirectional LSTM\n",
    "\n",
    "- 순방향, 역방향이 concatenate 된 output 출력  \n",
    "\n",
    "- hidden state, cell state 는 순방향, 역방향 별도 출력\n",
    "\n",
    "bi_lstm 함수는 Keras를 사용하여 양방향 LSTM 모델을 만들고 예측을 수행합니다. return_sequences가 False로 설정된 경우 (기본값), 양방향 LSTM은 시퀀스의 마지막 시간 단계에서만 출력을 반환하며, True로 설정된 경우 모든 시간 단계에 대한 출력을 반환합니다.\n",
    "\n",
    "함수는 T 시간 단계와 D 입력 차원을 가진 입력을 기대합니다.  \n",
    "Bidirectional 래퍼를 사용하여 양방향 LSTM을 생성하며, U개의 숨겨진 유닛을 사용하고 return_sequences 인수를 통해 출력 형태를 결정합니다.  \n",
    "Model 객체는 입력과 출력을 정의하여 모델을 생성합니다.  \n",
    "model.predict(X)를 사용하여 입력 데이터 X에 대한 모델의 예측을 반환합니다.  "
   ]
  },
  {
   "cell_type": "code",
   "execution_count": 4,
   "metadata": {},
   "outputs": [
    {
     "data": {
      "text/plain": [
       "(30, 1, 3)"
      ]
     },
     "execution_count": 4,
     "metadata": {},
     "output_type": "execute_result"
    }
   ],
   "source": [
    "T, D, U"
   ]
  },
  {
   "cell_type": "code",
   "execution_count": 5,
   "metadata": {},
   "outputs": [
    {
     "name": "stdout",
     "output_type": "stream",
     "text": [
      "*** 순방향, 역방향이 concatenate ***\n",
      "---- return_sequences=False ----> last timestep 의 output 만 반환\n",
      "WARNING:tensorflow:5 out of the last 5 calls to <function Model.make_predict_function.<locals>.predict_function at 0x00000240D3A52F70> triggered tf.function retracing. Tracing is expensive and the excessive number of tracings could be due to (1) creating @tf.function repeatedly in a loop, (2) passing tensors with different shapes, (3) passing Python objects instead of tensors. For (1), please define your @tf.function outside of the loop. For (2), @tf.function has reduce_retracing=True option that can avoid unnecessary retracing. For (3), please refer to https://www.tensorflow.org/guide/function#controlling_retracing and https://www.tensorflow.org/api_docs/python/tf/function for  more details.\n",
      "1/1 [==============================] - 0s 426ms/step\n",
      "(4, 6)\n",
      "\n",
      "---- return_sequences=True ----> 모든 timestep 별 output 출력\n",
      "WARNING:tensorflow:6 out of the last 6 calls to <function Model.make_predict_function.<locals>.predict_function at 0x00000240D1828DC0> triggered tf.function retracing. Tracing is expensive and the excessive number of tracings could be due to (1) creating @tf.function repeatedly in a loop, (2) passing tensors with different shapes, (3) passing Python objects instead of tensors. For (1), please define your @tf.function outside of the loop. For (2), @tf.function has reduce_retracing=True option that can avoid unnecessary retracing. For (3), please refer to https://www.tensorflow.org/guide/function#controlling_retracing and https://www.tensorflow.org/api_docs/python/tf/function for  more details.\n",
      "1/1 [==============================] - 0s 424ms/step\n",
      "(4, 30, 6)\n"
     ]
    }
   ],
   "source": [
    "def bi_lstm(return_sequences=False):\n",
    "    inp = Input(shape=(T, D))\n",
    "    out = Bidirectional(\n",
    "            LSTM(U, return_sequences=return_sequences))(inp)\n",
    "    \n",
    "    model = Model(inputs=inp, outputs=out)\n",
    "    return model.predict(X)\n",
    "\n",
    "print(\"*** 순방향, 역방향이 concatenate ***\")\n",
    "print(\"---- return_sequences=False ----> last timestep 의 output 만 반환\")\n",
    "lstm_out = bi_lstm(return_sequences=False)\n",
    "print(lstm_out.shape)\n",
    "# print(lstm_out)\n",
    "print()\n",
    "print(\"---- return_sequences=True ----> 모든 timestep 별 output 출력\")\n",
    "lstm_out = bi_lstm(return_sequences=True)\n",
    "print(lstm_out.shape)\n",
    "# print(lstm_out)"
   ]
  },
  {
   "cell_type": "markdown",
   "metadata": {
    "id": "4RUEZBhKIlP2"
   },
   "source": [
    "## Lambda Layer\n",
    "\n",
    "kares의 기능을 효과적으로 확장하기 위해 임의의 작업을 수행할 수 있게 해주는 레이어이며 모델 정의 자체 내에서 수행됩니다.\n",
    "\n",
    "이 코드는 Sequential 모델을 생성하며, 이 모델에는 다음과 같은 레이어들이 포함되어 있습니다.\n",
    "\n",
    "첫 번째 Lambda 레이어: 이 레이어의 목적은 입력 데이터의 모양을 변경하여 LSTM 레이어에 적합한 형태로 만드는 것입니다. 여기서 입력 데이터는 2D 텐서로 가정되며 (배치 크기, 시간 단계) 형태를 가집니다. LSTM 레이어는 3D 텐서 (배치 크기, 시간 단계, 특성 수)를 입력으로 사용하므로, 이 Lambda 레이어는 2D 입력 텐서에 차원을 추가하여 3D 텐서로 변경합니다. tf.expand_dims(x, axis=-1) 함수를 사용하여 마지막 축(axis=-1)에 차원을 추가합니다.\n",
    "\n",
    "LSTM 레이어: 이 레이어는 20개의 숨겨진 유닛이 있는 LSTM 레이어입니다. return_sequences=True 설정을 통해 모든 시간 단계에 대한 출력을 반환합니다. 이 출력은 다음 LSTM 레이어의 입력으로 사용됩니다.\n",
    "\n",
    "두 번째 LSTM 레이어: 이 레이어는 또한 20개의 숨겨진 유닛이 있는 LSTM 레이어입니다. 기본 설정에 따라 마지막 시간 단계의 출력만 반환합니다.\n",
    "\n",
    "Dense 레이어: 이 레이어는 완전 연결 레이어로, 출력 뉴런이 1개인 단일 뉴런 레이어입니다. LSTM 레이어의 출력을 사용하여 최종 예측 값을 생성합니다.\n",
    "\n",
    "두 번째 Lambda 레이어: 이 레이어의 목적은 모델의 출력 값을 스케일링하는 것입니다. Lambda 레이어는 출력 값을 100.0으로 곱하여 스케일 업합니다. 이렇게 하면 출력 범위가 증가하고, 이를 통해 문제에 더 적합한 출력 값을 생성할 수 있습니다."
   ]
  },
  {
   "cell_type": "code",
   "execution_count": 6,
   "metadata": {},
   "outputs": [],
   "source": [
    "model = Sequential([\n",
    "    #2D input을 3D로 변경 \n",
    "    Lambda(lambda x: tf.expand_dims(x, axis=-1), input_shape=[None]),\n",
    "    LSTM(20, return_sequences=True),\n",
    "    LSTM(20),\n",
    "    Dense(1),\n",
    "    Lambda(lambda x: x * 100.0)  #output을 scale-up\n",
    "])"
   ]
  },
  {
   "cell_type": "markdown",
   "metadata": {},
   "source": [
    "아래 코드에서 B는 배치 크기를 나타내고, T는 시간 단계를 나타냅니다. 이 코드는 크기가 (배치 크기, 시간 단계)인 2D 배열 X를 생성합니다. 각 원소는 평균이 0이고 표준 편차가 100인 정규 분포에서 무작위로 선택됩니다."
   ]
  },
  {
   "cell_type": "code",
   "execution_count": 7,
   "metadata": {},
   "outputs": [
    {
     "name": "stdout",
     "output_type": "stream",
     "text": [
      "(4, 30)\n"
     ]
    }
   ],
   "source": [
    "X = np.random.randn(B, T) * 100\n",
    "print(X.shape)\n",
    "# print(X)"
   ]
  },
  {
   "cell_type": "markdown",
   "metadata": {},
   "source": [
    "입력 배열 X에 새로운 축을 추가합니다. -1은 배열의 마지막 차원 바로 다음에 새로운 차원을 추가하라는 의미입니다."
   ]
  },
  {
   "cell_type": "code",
   "execution_count": 8,
   "metadata": {},
   "outputs": [
    {
     "data": {
      "text/plain": [
       "(4, 30, 1)"
      ]
     },
     "execution_count": 8,
     "metadata": {},
     "output_type": "execute_result"
    }
   ],
   "source": [
    "np.expand_dims(X, axis=-1).shape"
   ]
  },
  {
   "cell_type": "code",
   "execution_count": 9,
   "metadata": {},
   "outputs": [
    {
     "data": {
      "text/plain": [
       "array([[[  -8.46903324],\n",
       "        [ 135.92150454],\n",
       "        [ -15.61150403],\n",
       "        [   9.85839233],\n",
       "        [ -52.07706753],\n",
       "        [ -16.94629993],\n",
       "        [ 109.72815404],\n",
       "        [-137.09399014],\n",
       "        [ -16.87198783],\n",
       "        [ -26.24110235],\n",
       "        [  65.90174117],\n",
       "        [ -40.95792416],\n",
       "        [ -21.02307719],\n",
       "        [  81.22452183],\n",
       "        [   4.9421874 ],\n",
       "        [  58.25823399],\n",
       "        [  68.50178843],\n",
       "        [ -14.69234784],\n",
       "        [ -41.05360625],\n",
       "        [  23.08179752],\n",
       "        [  16.41845687],\n",
       "        [  42.75019651],\n",
       "        [   5.07288748],\n",
       "        [  65.25390314],\n",
       "        [  -7.93577248],\n",
       "        [ 104.86559252],\n",
       "        [ -72.50418137],\n",
       "        [ -76.97488204],\n",
       "        [  36.26891845],\n",
       "        [   2.30404104]],\n",
       "\n",
       "       [[  77.06858518],\n",
       "        [ -95.1240779 ],\n",
       "        [  15.22459836],\n",
       "        [ -65.69847975],\n",
       "        [  24.51114182],\n",
       "        [ -90.89694327],\n",
       "        [-130.26323182],\n",
       "        [ 103.94768751],\n",
       "        [  65.97096822],\n",
       "        [ -60.05343342],\n",
       "        [  52.19426574],\n",
       "        [  91.53990714],\n",
       "        [ -50.24112285],\n",
       "        [ -75.0843963 ],\n",
       "        [ 146.50295657],\n",
       "        [   4.44286173],\n",
       "        [ -29.34292408],\n",
       "        [  -0.27706683],\n",
       "        [  51.98656956],\n",
       "        [ -75.80359458],\n",
       "        [ 193.91519656],\n",
       "        [ -85.99576421],\n",
       "        [  63.84910922],\n",
       "        [  58.78867058],\n",
       "        [  -1.8816465 ],\n",
       "        [-124.104187  ],\n",
       "        [  20.62496208],\n",
       "        [  23.50952589],\n",
       "        [ -87.89191374],\n",
       "        [ 242.44764487]],\n",
       "\n",
       "       [[ -47.4281023 ],\n",
       "        [  46.6805988 ],\n",
       "        [ -13.25816408],\n",
       "        [-183.32490209],\n",
       "        [ 101.49815481],\n",
       "        [ -26.13420053],\n",
       "        [ -11.72524481],\n",
       "        [  61.20144165],\n",
       "        [-144.40724908],\n",
       "        [ 130.3342355 ],\n",
       "        [ 139.10924149],\n",
       "        [ 192.49635521],\n",
       "        [ -38.85149576],\n",
       "        [ -31.80965949],\n",
       "        [  88.32352065],\n",
       "        [ -56.14333515],\n",
       "        [-185.11487162],\n",
       "        [   8.37831415],\n",
       "        [ -39.69971965],\n",
       "        [-215.51985306],\n",
       "        [   7.6562873 ],\n",
       "        [   9.74756846],\n",
       "        [  21.68881537],\n",
       "        [ -85.06067761],\n",
       "        [  39.5047055 ],\n",
       "        [  99.23705993],\n",
       "        [ 144.1594381 ],\n",
       "        [  37.93949503],\n",
       "        [  -7.43645475],\n",
       "        [  99.53292136]],\n",
       "\n",
       "       [[-127.45221023],\n",
       "        [ 125.43896084],\n",
       "        [ -49.625937  ],\n",
       "        [  81.15366041],\n",
       "        [  62.59134765],\n",
       "        [ 150.57600576],\n",
       "        [ 143.33586249],\n",
       "        [  62.42595982],\n",
       "        [  81.90388131],\n",
       "        [ 108.57892922],\n",
       "        [-145.3679588 ],\n",
       "        [  57.31361957],\n",
       "        [ 243.39713677],\n",
       "        [-228.83438087],\n",
       "        [-103.61834742],\n",
       "        [  -0.86559418],\n",
       "        [ -74.96179857],\n",
       "        [  19.82752702],\n",
       "        [  50.51382802],\n",
       "        [-113.9696873 ],\n",
       "        [ -99.63080435],\n",
       "        [ -57.30745224],\n",
       "        [-155.93583976],\n",
       "        [  -6.54193294],\n",
       "        [ -59.52399543],\n",
       "        [  69.10211952],\n",
       "        [-110.26502711],\n",
       "        [ -81.47715748],\n",
       "        [  11.12091411],\n",
       "        [ 116.97667132]]])"
      ]
     },
     "execution_count": 9,
     "metadata": {},
     "output_type": "execute_result"
    }
   ],
   "source": [
    "np.expand_dims(X, axis=-1)"
   ]
  },
  {
   "cell_type": "code",
   "execution_count": 10,
   "metadata": {},
   "outputs": [
    {
     "name": "stdout",
     "output_type": "stream",
     "text": [
      "1/1 [==============================] - 0s 442ms/step\n"
     ]
    },
    {
     "data": {
      "text/plain": [
       "array([[13.938616],\n",
       "       [11.178029],\n",
       "       [28.324615],\n",
       "       [ 6.301084]], dtype=float32)"
      ]
     },
     "execution_count": 10,
     "metadata": {},
     "output_type": "execute_result"
    }
   ],
   "source": [
    "model.predict(X)"
   ]
  },
  {
   "cell_type": "code",
   "execution_count": null,
   "metadata": {},
   "outputs": [],
   "source": []
  }
 ],
 "metadata": {
  "colab": {
   "name": "020_LSTM+GRU+input+output+shape+return_sequences.ipynb",
   "provenance": []
  },
  "kernelspec": {
   "display_name": "Python 3 (ipykernel)",
   "language": "python",
   "name": "python3"
  },
  "language_info": {
   "codemirror_mode": {
    "name": "ipython",
    "version": 3
   },
   "file_extension": ".py",
   "mimetype": "text/x-python",
   "name": "python",
   "nbconvert_exporter": "python",
   "pygments_lexer": "ipython3",
   "version": "3.9.16"
  }
 },
 "nbformat": 4,
 "nbformat_minor": 4
}
