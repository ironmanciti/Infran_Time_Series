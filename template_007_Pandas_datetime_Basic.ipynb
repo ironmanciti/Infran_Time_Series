{
 "cells": [
  {
   "cell_type": "markdown",
   "id": "dabcc3b8",
   "metadata": {},
   "source": [
    "# 시계열 관련 NumPy 및 Pandas 기능"
   ]
  },
  {
   "cell_type": "markdown",
   "id": "26905b2e",
   "metadata": {},
   "source": [
    "## python, numpy, pandas 날짜 타입 비교 및 정리\n",
    "\n",
    "|라이브러리|날짜, 시간 클래스| 타임델타 클래스|\n",
    "|-------|-------------|-------------|\n",
    "|datetime|datetime, date, time|timedelta|\n",
    "|numpy|datetime64|timedelta64|\n",
    "|panads|Timestamp|Timedelta|\n",
    "\n",
    "- datetime은 python 설치 시 기본적으로 내장된 라이브러리로, 날짜를 쓸 것인지, 시간을 쓸 것인지, 날짜와 시간을 합쳐쓸 것인지에 따라 클래스가 분화되어 있음.   \n",
    "예를들어 `2021-3-16`을 표시하고 싶으면 `date` 클래스를 사용하고, `2021-3-16 12:34:2`'를 표시하고 싶으면 `datetime` 클래스를 사용.  \n",
    "\n",
    "\n",
    "- `datetime64`나 `Timestamp`는 각각 numpy, pandas 라이브러리에서 새로 정의한 날짜시간 클래스.   \n",
    "이 둘은 한 클래스로 날짜, 시간, 날짜시간을 모두 정의할 수 있는 것이 특징."
   ]
  },
  {
   "cell_type": "markdown",
   "id": "ce48965d",
   "metadata": {},
   "source": [
    "### 날짜 데이터 정의 - python \n",
    "다음 코드는 Python의 내장 모듈인 datetime을 사용하여 날짜, 날짜 + 시간, 그리고 시간을 출력하는 예제입니다. 코드의 실행 결과는 각각 2022년 5월 1일, 2022년 5월 1일 15시 30분 45초, 그리고 15시 30분 45초를 나타냅니다."
   ]
  },
  {
   "cell_type": "markdown",
   "id": "f6e2b0cd",
   "metadata": {},
   "source": [
    "### 날짜 데이터 정의 - numpy\n",
    "다음 코드는 NumPy 라이브러리를 사용하여 날짜를 출력하는 예제입니다. 코드의 실행 결과는 2022년 5월 1일을 나타냅니다. NumPy의 datetime64 데이터 타입은 고성능 배열 처리를 위해 설계되어 있으며, 날짜 및 시간 관련 연산에 유용하게 사용됩니다."
   ]
  },
  {
   "cell_type": "markdown",
   "id": "18d401cf",
   "metadata": {},
   "source": [
    "### 날짜 데이터 정의 - pandas \n",
    "다음 코드는 pandas 라이브러리를 사용하여 날짜와 날짜 + 시간을 출력하는 예제입니다. 코드의 실행 결과는 각각 2022년 5월 1일 00시 00분 00초와 2022년 5월 1일 12시 30분 00초를 나타냅니다. pandas의 Timestamp 객체는 시계열 데이터 처리에 유용하게 사용됩니다."
   ]
  },
  {
   "cell_type": "markdown",
   "id": "7e1615f3",
   "metadata": {},
   "source": [
    "### Pandas 의 Timestamp 처리"
   ]
  },
  {
   "cell_type": "markdown",
   "id": "279c6fb9",
   "metadata": {},
   "source": [
    "###  시계열 데이터 단순화\n",
    "\n",
    "- 여러 column 중에서 필요한 정보 (주문 날짜 및 범주별 총 판매액)만으로 data 를 단순화  시킵니다.\n",
    "\n",
    "- 인덱스를 재설정하지 않으면 Pandas가 그룹 변수를 인덱스로 설정합니다. \n",
    "\n",
    "다음 코드는 DataFrame인 'df'를 'Order Date'와 'Category' 기준으로 그룹화하여 합계를 계산하는 예제입니다.  \n",
    "'Order Date'와 'Category' 열을 기준으로 데이터를 그룹화한 후, 각 그룹별로 나머지 열의 합계를 구합니다. 그런 다음 grouped_df.head()를 통해 그룹화된 DataFrame의 상위 5개 행을 출력합니다."
   ]
  },
  {
   "cell_type": "markdown",
   "id": "1a820550",
   "metadata": {},
   "source": [
    "다음 코드는 DataFrame 'df'를 'Order Date'와 'Category' 기준으로 그룹화하여 'Sales' 열의 합계를 계산한 후 인덱스를 리셋하는 예제입니다."
   ]
  },
  {
   "cell_type": "markdown",
   "id": "6ffc0741",
   "metadata": {},
   "source": [
    "### Numpy 의 datetime64 format\n",
    "\n",
    "NumPy 날짜 배열은 ns(나노초) 단위의 datetime64 객체입니다. \n",
    "\n",
    "내부 저장 단위는 문자열 형태에서 자동으로 선택되며 날짜 단위 또는 시간 단위가 될 수 있습니다. 날짜 단위는 년('Y'), 월('M'), 주('W'), 일('D')이고 시간 단위는 시('h'), 분('m'), 초('s'), 밀리초('ms') 입니다."
   ]
  },
  {
   "cell_type": "markdown",
   "id": "d2249512",
   "metadata": {},
   "source": [
    "다음 코드는 'order_date' 배열을 입력 받아, 데이터 타입을 'datetime64[D]'로 변환하여 일 단위의 날짜로 저장하는 예제입니다."
   ]
  },
  {
   "cell_type": "markdown",
   "id": "3d7605bb",
   "metadata": {},
   "source": [
    "다음 코드는 'order_date' 배열을 입력 받아, 데이터 타입을 'datetime64[M]'로 변환하여 월 단위의 날짜로 저장하는 예제입니다."
   ]
  },
  {
   "cell_type": "markdown",
   "id": "f5383d71",
   "metadata": {},
   "source": [
    "다음 코드는 'order_date_monthly' 배열에서 중복되지 않은 월 단위의 날짜를 추출하는 예제입니다."
   ]
  },
  {
   "cell_type": "markdown",
   "id": "3622f201",
   "metadata": {},
   "source": [
    "다음 코드는 'order_date' 배열을 입력 받아, 데이터 타입을 'datetime64[Y]'로 변환하여 연 단위의 날짜로 저장한 후 중복되지 않은 연도를 추출하는 예제입니다."
   ]
  },
  {
   "cell_type": "markdown",
   "id": "2361ffdb",
   "metadata": {},
   "source": [
    "## DateTimeIndex 를 가진 Pandas 시계열 data 생성 및 처리\n",
    "\n",
    "- Timestamp을 index 로 하는 data 를 시계열데이터 (TimeSeries) 라고 부른다. 즉, index 가 DatetimeIndex 인 데이터이다.\n",
    "\n",
    "- 시계열관련 class 와 생성 방법\n",
    "\n",
    "| class         |           설명          |                               생성방법 |Pandas Class|\n",
    "|---------------|:-----------------------:|---------------------------------------:|------------:|\n",
    "| Timestamp     |     하나의 timestamp    |                 to_datetime, Timestamp |pandas.Timestamp|\n",
    "| DatetimeIndex | timestamp 타입의 인덱스 | to_datetime, date_range, DatetimeIndex |pandas.DatetimeIndex|\n",
    "| Period        |       time period       |                                 Period |pandas.Period|"
   ]
  },
  {
   "cell_type": "markdown",
   "id": "1644aecb",
   "metadata": {},
   "source": [
    "다음 코드는 크기가 (12, 4)인 임의의 표준 정규 분포에 따른 난수 배열을 생성하고, 이를 사용하여 'n1', 'n2', 'n3', 'n4' 열 이름을 가진 DataFrame을 생성하는 예제입니다."
   ]
  },
  {
   "cell_type": "markdown",
   "id": "3bcee4d9",
   "metadata": {},
   "source": [
    "## to_datetime()\n",
    "\n",
    "다음 코드는 문자열로 표현된 다양한 형식의 날짜들을 포함하는 'date_str' 리스트를 입력 받습니다. 그 다음, pd.to_datetime() 함수를 사용하여 해당 문자열들을 datetime 자료형으로 바꾼 후 DatetimeIndex 자료형 인덱스를 생성합니다."
   ]
  },
  {
   "cell_type": "markdown",
   "id": "b86fd8fc",
   "metadata": {},
   "source": [
    "## date_range\n",
    "```python\n",
    "pd.date_range(start, end, periods, freq)\n",
    "```\n",
    "\n",
    "- 모든 날짜/시간을 일일히 입력할 필요없이 **시작일과 종료일** 또는 **시작일과 기간**을 입력하면 범위 내의 인덱스를 생성  \n",
    "\n",
    "- freq\n",
    "    - S: 초  \n",
    "    - T: 분  \n",
    "    - H: 시간  \n",
    "    - D: 일(day)  \n",
    "    - B: 주말이 아닌 평일 (Business Day)\n",
    "    - W: 주(일요일)  \n",
    "    - M: 각 달(month)의 마지막 날  \n",
    "    - MS: 각 달의 첫날  \n",
    "\n",
    "[frequency alias](https://pandas.pydata.org/pandas-docs/stable/user_guide/timeseries.html#offset-aliases) 참조"
   ]
  },
  {
   "cell_type": "markdown",
   "id": "9140e5b0",
   "metadata": {},
   "source": [
    "이 코드는 시작 날짜로 '2016-9-1'을 설정하고, 그로부터 10일 동안의 날짜 범위를 생성합니다. 기본적으로 날짜 간격은 1일로 설정됩니다.  \n",
    "결과적으로 시작 날짜부터 연속된 10일 동안의 날짜 범위가 생성되어 DatetimeIndex 객체에 저장됩니다."
   ]
  },
  {
   "cell_type": "markdown",
   "id": "a5de1f7b",
   "metadata": {},
   "source": [
    "이 코드는 시작 날짜로 '2019-5-1'을 설정하고, 종료 날짜로 '2019-5-10'을 설정합니다. 그리고 'freq' 인자를 'B'로 설정하여 평일 범위를 생성합니다 ('B'는 Business day의 약자로 평일을 의미합니다)."
   ]
  },
  {
   "cell_type": "markdown",
   "id": "df67d7fc",
   "metadata": {},
   "source": [
    "이 코드는 시작 날짜로 '2019-01-01'을 설정하고, 그로부터 12개의 월별 날짜 범위를 생성합니다. 'freq' 인자를 'M'로 설정하여 월 마지막 날짜를 기준으로 날짜 범위를 생성합니다."
   ]
  },
  {
   "cell_type": "markdown",
   "id": "d443bd2c",
   "metadata": {},
   "source": [
    "## Pandas DatetimeIndex를 이용한 작업"
   ]
  },
  {
   "cell_type": "markdown",
   "id": "1338a502",
   "metadata": {},
   "source": [
    "다음 코드는 기존의 'sales' DataFrame에서 'Order Date' 열을 인덱스로 설정하는 예제입니다."
   ]
  },
  {
   "cell_type": "markdown",
   "id": "8ebe9682",
   "metadata": {},
   "source": [
    "### Subsetting data\n",
    "\n",
    "이제 DatetimeIndex를 사용하여 데이터 하위 집합을 선택할 수 있습니다.  \n",
    "다음 코드는 'sales' DataFrame에서 인덱스가 '2011' 년에 해당하는 데이터를 선택하는 예제입니다."
   ]
  },
  {
   "cell_type": "markdown",
   "id": "525a3423",
   "metadata": {},
   "source": [
    "다음 코드는 'sales' DataFrame에서 'Category'가 'Office Supplies'인 데이터 중, 2012년 1월부터 2월까지 해당하는 데이터를 선택하는 예제입니다."
   ]
  },
  {
   "cell_type": "markdown",
   "id": "49d54bbd",
   "metadata": {},
   "source": [
    "### Datetime Components\n",
    "\n",
    "Pandas Datetime 변수에는 여러 가지 유용한 구성 요소가 있습니다. DatetimeIndex를 사용하여 월, 연도, 요일, 분기 등과 같은 항목을 추출할 수 있습니다."
   ]
  },
  {
   "cell_type": "markdown",
   "id": "b9351f9c",
   "metadata": {},
   "source": [
    "다음 코드는 'sales' DataFrame의 인덱스에서 일(day) 정보를 가져오는 예제입니다."
   ]
  },
  {
   "cell_type": "markdown",
   "id": "cde84c86",
   "metadata": {},
   "source": [
    "다음 코드는 'sales' DataFrame의 인덱스에서 요일 정보를 가져오는 예제입니다."
   ]
  },
  {
   "cell_type": "markdown",
   "id": "d4b42152",
   "metadata": {},
   "source": [
    "이 코드는 'sales' DataFrame에 'DayofWeek'라는 새로운 열을 추가하며, 이 열에는 각 행의 인덱스인 날짜의 요일 정보를 할당합니다. "
   ]
  },
  {
   "cell_type": "markdown",
   "id": "a470f25d",
   "metadata": {},
   "source": [
    "## resample\n",
    "\n",
    "- 시간 간격을 재조정   \n",
    "- 원래의 데이터가 그룹으로 묶이기 때문에 그룹 연산을 해서 대표값을 구해야 한다."
   ]
  },
  {
   "cell_type": "markdown",
   "id": "5d98925b",
   "metadata": {},
   "source": [
    "이 코드는 NumPy의 randn() 함수를 사용하여 길이가 100인 랜덤한 값을 생성한 후, 이를 pandas Series로 변환합니다. 인덱스는 pd.date_range() 함수를 사용하여 2018년 1월 1일부터 100개월 기간으로 생성됩니다. 빈도(frequency)를 freq=\"M\"으로 설정하여 월단위로 지정합니다.\n",
    "\n",
    "2018년 1월 1일을 시작으로 하여 매월 랜덤한 값을 갖는 100개의 데이터가 생성되며, 시계열 데이터를 다루는 다양한 pandas 함수 및 메소드를 활용할 수 있습니다."
   ]
  },
  {
   "cell_type": "markdown",
   "id": "15db58d8",
   "metadata": {},
   "source": [
    "다음 코드는 pandas Series에서 주 단위로 다운 샘플링하는 예제입니다."
   ]
  },
  {
   "cell_type": "markdown",
   "id": "60d88895",
   "metadata": {},
   "source": [
    "다음 코드는 pandas Series에서 주 단위, 월 단위로 평균을 계산하는 예제입니다."
   ]
  }
 ],
 "metadata": {
  "kernelspec": {
   "display_name": "Python 3 (ipykernel)",
   "language": "python",
   "name": "python3"
  },
  "language_info": {
   "codemirror_mode": {
    "name": "ipython",
    "version": 3
   },
   "file_extension": ".py",
   "mimetype": "text/x-python",
   "name": "python",
   "nbconvert_exporter": "python",
   "pygments_lexer": "ipython3",
   "version": "3.9.16"
  }
 },
 "nbformat": 4,
 "nbformat_minor": 5
}
