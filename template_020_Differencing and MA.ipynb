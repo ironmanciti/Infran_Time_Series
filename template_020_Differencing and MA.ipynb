{
 "cells": [
  {
   "cell_type": "markdown",
   "metadata": {},
   "source": [
    "# 차분(Differencing) 과 이동평균(MA) - Simple Trade Strategy"
   ]
  },
  {
   "cell_type": "markdown",
   "metadata": {},
   "source": [
    "## Price difference (익일 종가 - 당일 종가)\n",
    "\n",
    "PriceDiff = (Close Price of tomorrow - Close Price of today)\n",
    "\n",
    "shift(period) 함수는 pandas Series나 DataFrame에서 주어진 기간만큼 데이터를 이동시키는 함수입니다. 이를 사용하여 주가 데이터에서 \"PriceDiff\"를 계산할 수 있습니다."
   ]
  },
  {
   "cell_type": "markdown",
   "metadata": {},
   "source": [
    "Yahoo Finance의 yfinance 라이브러리를 사용하여 Meta(Facebook)과 Microsoft의 주가 데이터를 다운로드합니다"
   ]
  },
  {
   "cell_type": "markdown",
   "metadata": {},
   "source": [
    "각 데이터프레임에는 'Close'와 'PriceDiff' 열만 남기고 불필요한 column 들을 삭제합니다."
   ]
  },
  {
   "cell_type": "markdown",
   "metadata": {},
   "source": [
    "이 코드는 Meta(Facebook)의 주가 데이터프레임에 'Yesterday Close'라는 새 열을 추가하고, 종가 데이터를 하루 뒤로 이동시킵니다. 이렇게 하면 'Yesterday Close' 열에 이전 날의 종가 정보가 저장됩니다."
   ]
  },
  {
   "cell_type": "markdown",
   "metadata": {},
   "source": [
    "'Price Difference'라는 새 열을 추가하고, 종가(Close)와 어제 종가(Yesterday Close)의 차이를 계산하여 저장합니다."
   ]
  },
  {
   "cell_type": "markdown",
   "metadata": {},
   "source": [
    "Price Diff2'라는 새 열을 추가하고, diff() 메소드를 사용하여 종가(Close) 데이터의 차이를 계산하여 저장합니다. diff() 메소드는 기본적으로 각 데이터 포인트와 그 이전 데이터 포인트의 차이를 계산합니다.  \n",
    "\n",
    "Manually 계산한 결과와 동일함을 확인할 수 있습니다."
   ]
  },
  {
   "cell_type": "markdown",
   "metadata": {},
   "source": [
    "'Yesterday Close'와 'Price Difference'라는 새 열을 추가합니다. 'Yesterday Close' 열에는 이전 날 종가 정보가 저장되고, 'Price Difference' 열에는 종가 데이터의 차이가 계산되어 저장됩니다."
   ]
  },
  {
   "cell_type": "markdown",
   "metadata": {},
   "source": [
    "데이터프레임에서 '2021-11-03' 날짜의 가격 차이를 출력합니다."
   ]
  },
  {
   "cell_type": "markdown",
   "metadata": {},
   "source": [
    "### 차분한 값으로부터 원래의 값 복원하기\n",
    "Microsoft의 주가 데이터프레임에서 'Price Difference' 열을 누적합(cumulative sum)한 결과에 첫 번째 종가(Close) 값을 더하면 원래의 값이 복원됨을 확인할 수 있습니다."
   ]
  },
  {
   "cell_type": "markdown",
   "metadata": {},
   "source": [
    "## 일일 수익률 계산\n",
    "\n",
    "- 1 주를 계속 보유하였다고 가정.  \n",
    "\n",
    "계산 방법. \n",
    "\n",
    "- Daily Return = df/df.shift(1) - 1  \n",
    "    or\n",
    "- Daily Return[1:] = df[1:] / df[:-1].values - 1  \n",
    "    or    \n",
    "- Daily Return = df.pct_chage()\n",
    "\n",
    "일일 수익률(Daily Return)은 특정 기간(하루) 동안 주식의 가격이 얼마나 상승하거나 하락했는지를 나타내는 지표입니다. 이를 계산하는 방법은 여러 가지가 있지만, 대표적인 방법은 다음과 같습니다.\n",
    "\n",
    "df/df.shift(1) - 1: 현재 날짜의 주가를 이전 날짜의 주가로 나누어서 1을 빼줍니다. 이전 날짜의 주가를 나타내기 위해 shift() 함수를 사용합니다. 이 방법은 간단하고 이해하기 쉽지만, 첫 번째 데이터에는 NaN이 포함되므로, dropna() 함수를 사용하여 이를 제거해야 합니다.\n",
    "\n",
    "df[1:] / df[:-1].values - 1: 현재 날짜의 주가를 이전 날짜의 주가로 나누어서 1을 빼줍니다. 이전 날짜의 주가를 나타내기 위해 슬라이싱(slicing)을 사용합니다. 이 방법은 NaN 값이 포함되지 않으므로, 추가적인 처리 없이 사용할 수 있습니다.\n",
    "\n",
    "df.pct_change(): pct_change() 함수는 현재 날짜의 주가와 이전 날짜의 주가를 사용하여, 가격 변동률을 계산합니다. 이 방법은 간단하고, 첫 번째 데이터에 NaN 값이 포함되지 않으며, 다른 방법들과 동일한 결과를 출력합니다."
   ]
  },
  {
   "cell_type": "markdown",
   "metadata": {},
   "source": [
    "'Return' 열을 이용하여 누적 수익율을 계산하고 출력합니다.  \n",
    "\n",
    "아래 코드를 실행하면 Microsoft 주가 데이터에서 날짜의 범위를 계산하고, 1 주를 계속 보유했을 경우의 누적 수익율을 출력합니다. "
   ]
  },
  {
   "cell_type": "markdown",
   "metadata": {},
   "source": [
    "## 이동평균 - Moving average"
   ]
  },
  {
   "cell_type": "markdown",
   "metadata": {},
   "source": [
    "다음 코드를 실행하면 Facebook 주가 데이터에서 종가(Close) 열을 이용하여 3일 이동평균을 계산한 후, 결과를 출력합니다"
   ]
  },
  {
   "cell_type": "markdown",
   "metadata": {},
   "source": [
    "DataFrame.rolling() 을 이용하여 동일한 결과를 얻을 수 있습니다."
   ]
  },
  {
   "cell_type": "markdown",
   "metadata": {},
   "source": [
    "### 이동평균 계산 및 이동평균선 시각화"
   ]
  },
  {
   "cell_type": "markdown",
   "metadata": {},
   "source": [
    "Facebook 주가 데이터에서 종가(Close) 열을 이용하여 30일 이동평균과 60일 이동평균을 계산한 후, 'ma30' 열과 'ma60' 열에 저장하고 시각화 합니다."
   ]
  },
  {
   "cell_type": "markdown",
   "metadata": {},
   "source": [
    "## EWMA (Exponentially-weighted moving average)\n",
    "\n",
    "\n",
    "SMA(Simple Moving Average)에는 몇 가지 \"약점\"이 있습니다.\n",
    "* window 가 작을수록 신호가 아닌 잡음이 증가합니다.\n",
    "* 항상 window 크기만큼 지연됩니다.\n",
    "* 평균화로 인해 데이터의 전체 피크 또는 계곡에 도달하지 않습니다.\n",
    "* 미래의 움직임에 대해 실제로 알려주지 않습니다. 실제로는 데이터의 trend를 묘사하는 것입니다.\n",
    "* 극단적인 historical value 로 인해 SMA가 크게 왜곡 될 수 있습니다.\n",
    "\n",
    "이러한 문제를 해결하기 위해 EWMA (지수 가중 이동 평균)를 사용할 수 있습니다."
   ]
  },
  {
   "cell_type": "markdown",
   "metadata": {},
   "source": [
    "- EWMA를 사용하면 SMA의 지연 효과를 줄일 수 있으며 최근에 발생한 값에 더 많은 가중치를 적용합니다.  \n",
    "\n",
    "- 가장 최근 값에 적용되는 가중치는 EWMA에 사용된 실제 매개 변수와 window 크기로 지정된 기간에 따라 다릅니다.\n",
    "\n",
    "EWMA 공식은 다음과 같습니다.\n",
    "\n",
    "$$ y_t =   \\frac{\\sum\\limits_{i=0}^t w_i x_{t-i}}{\\sum\\limits_{i=0}^t w_i}$$\n",
    "\n",
    "$x_t$ 는 입력값, $w_i$ 는 적용된 weight (i=0 에서 t 사이로 변할 수 있음). $y_t$ 는 산출된 값입니다."
   ]
  }
 ],
 "metadata": {
  "kernelspec": {
   "display_name": "Python 3 (ipykernel)",
   "language": "python",
   "name": "python3"
  },
  "language_info": {
   "codemirror_mode": {
    "name": "ipython",
    "version": 3
   },
   "file_extension": ".py",
   "mimetype": "text/x-python",
   "name": "python",
   "nbconvert_exporter": "python",
   "pygments_lexer": "ipython3",
   "version": "3.9.16"
  }
 },
 "nbformat": 4,
 "nbformat_minor": 4
}
